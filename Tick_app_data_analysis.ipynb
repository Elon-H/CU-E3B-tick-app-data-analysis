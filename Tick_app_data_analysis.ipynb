{
  "nbformat": 4,
  "nbformat_minor": 0,
  "metadata": {
    "colab": {
      "provenance": [],
      "authorship_tag": "ABX9TyMskJC7QXlPMwTmq9wg/mZ6",
      "include_colab_link": true
    },
    "kernelspec": {
      "name": "python3",
      "display_name": "Python 3"
    },
    "language_info": {
      "name": "python"
    }
  },
  "cells": [
    {
      "cell_type": "markdown",
      "metadata": {
        "id": "view-in-github",
        "colab_type": "text"
      },
      "source": [
        "<a href=\"https://colab.research.google.com/github/Elon-H/CU-E3B-tick-app-data-analysis/blob/main/Tick_app_data_analysis.ipynb\" target=\"_parent\"><img src=\"https://colab.research.google.com/assets/colab-badge.svg\" alt=\"Open In Colab\"/></a>"
      ]
    },
    {
      "cell_type": "code",
      "source": [
        "!git clone https://github.com/Elon-H/CU-E3B-tick-app-data-analysis.git"
      ],
      "metadata": {
        "colab": {
          "base_uri": "https://localhost:8080/"
        },
        "id": "G6E7-N6_D6kb",
        "outputId": "db8e7343-57d0-4525-a6c9-c3f2eb525735"
      },
      "execution_count": 25,
      "outputs": [
        {
          "output_type": "stream",
          "name": "stdout",
          "text": [
            "Cloning into 'CU-E3B-tick-app-data-analysis'...\n",
            "remote: Enumerating objects: 3, done.\u001b[K\n",
            "remote: Counting objects:  33% (1/3)\u001b[K\rremote: Counting objects:  66% (2/3)\u001b[K\rremote: Counting objects: 100% (3/3)\u001b[K\rremote: Counting objects: 100% (3/3), done.\u001b[K\n",
            "remote: Total 3 (delta 0), reused 0 (delta 0), pack-reused 0 (from 0)\u001b[K\n",
            "Receiving objects:  33% (1/3)\rReceiving objects:  66% (2/3)\rReceiving objects: 100% (3/3)\rReceiving objects: 100% (3/3), done.\n"
          ]
        }
      ]
    },
    {
      "cell_type": "code",
      "source": [
        "from google.colab import drive\n",
        "drive.mount('/content/drive')"
      ],
      "metadata": {
        "colab": {
          "base_uri": "https://localhost:8080/"
        },
        "id": "k4W2aCGMfM2i",
        "outputId": "6ba99d2c-5a9d-4c44-e6a5-a7a37c670ed5"
      },
      "execution_count": 1,
      "outputs": [
        {
          "output_type": "stream",
          "name": "stdout",
          "text": [
            "Mounted at /content/drive\n"
          ]
        }
      ]
    },
    {
      "cell_type": "markdown",
      "source": [
        "## Check the datasets users-pt1.xlsx and Tick app email and followup - followup pfizer 2 (20).csv"
      ],
      "metadata": {
        "id": "TsXGS-QIFE3M"
      }
    },
    {
      "cell_type": "code",
      "source": [
        "import pandas as pd\n",
        "\n",
        "# Update these paths to reflect where your files are stored on Drive\n",
        "appemail_path = '/content/drive/MyDrive/CU E3B lab/Tick App modeling /Data/Tick app email and followup - followup pfizer 2 (20).csv'\n",
        "userspt1_path = '/content/drive/MyDrive/CU E3B lab/Tick App modeling /Data/users-pt1.xlsx'\n",
        "\n",
        "df_email = pd.read_csv(appemail_path)\n",
        "df_users = pd.read_excel(userspt1_path)"
      ],
      "metadata": {
        "id": "mZgmFqy5gMbU"
      },
      "execution_count": 2,
      "outputs": []
    },
    {
      "cell_type": "code",
      "source": [
        "# Display the first few rows of each dataset\n",
        "print(\"Pfizer Dataset (CSV):\")\n",
        "print(df_email.head(), \"\\n\")\n",
        "\n",
        "print(\"Users Dataset (Excel):\")\n",
        "print(df_users.head(), \"\\n\")"
      ],
      "metadata": {
        "colab": {
          "base_uri": "https://localhost:8080/"
        },
        "id": "2WwXi5unjBzb",
        "outputId": "935896e2-788f-4e49-ec6d-b0a494fd1b4a"
      },
      "execution_count": 3,
      "outputs": [
        {
          "output_type": "stream",
          "name": "stdout",
          "text": [
            "Pfizer Dataset (CSV):\n",
            "                          Email     State  CUTICK  Columbia  invitation  \\\n",
            "0  01-girders.infill@icloud.com  New York  CUTICK       1.0           1   \n",
            "1          01johnpete@gmail.com  New York  CUTICK       1.0           1   \n",
            "2            03toheeb@gmail.com  New York  CUTICK       1.0           1   \n",
            "3              130365@gmail.com   Florida     NaN       0.0           1   \n",
            "4            13plazal@gmail.com  New York  CUTICK       1.0           1   \n",
            "\n",
            "         Giftcard sent  DL  points total_days_readable county_name STATE_NAME  \\\n",
            "0  ask to activate GPS   8     NaN                 NaN         NaN        NaN   \n",
            "1                    N   9     2.0              0 days         NaN        NaN   \n",
            "2                  NaN   0     NaN                 NaN         NaN        NaN   \n",
            "3                  NaN   0     NaN                 NaN         NaN        NaN   \n",
            "4                    Y   2     NaN                 NaN         NaN        NaN   \n",
            "\n",
            "  median_time_diff_readable  centroid_latitude  centroid_longitude  \\\n",
            "0                       NaN                NaN                 NaN   \n",
            "1             20.46 minutes            7.59139            6.235075   \n",
            "2                       NaN                NaN                 NaN   \n",
            "3                       NaN                NaN                 NaN   \n",
            "4                       NaN                NaN                 NaN   \n",
            "\n",
            "             location_centroid  comments  \n",
            "0                          NaN       NaN  \n",
            "1  Okene 264103, Kogi, Nigeria       NaN  \n",
            "2                          NaN       NaN  \n",
            "3                          NaN       NaN  \n",
            "4                          NaN       NaN   \n",
            "\n",
            "Users Dataset (Excel):\n",
            "                                user_id               username    user_state  \\\n",
            "0  02fb5eca-ed6f-a997-7b82-649948dbed5a       kim@thesells.net     Wisconsin   \n",
            "1  096c4855-2ccf-1c70-27b9-0c310a422345       jhcase@gmail.com  Pennsylvania   \n",
            "2  06fc9dbf-011b-be51-a74a-02733b323bd7   olsol9827@icloud.com     Wisconsin   \n",
            "3  08cbfde2-1c57-e356-2555-f78b9efac50c  jmccann1124@gmail.com     Wisconsin   \n",
            "4  0383ef08-e890-f1f9-e851-781aab8fc72b   st.pattee9@gmail.com      Missouri   \n",
            "\n",
            "  user_study_arm user_language  baseline_complete        most_recent_activity  \\\n",
            "0      treatment           NaN               True  2024-06-10 03:26:44.806000   \n",
            "1      treatment           NaN               True  2024-07-08 12:37:19.141000   \n",
            "2        control           NaN               True  2024-03-27 18:51:06.349000   \n",
            "3      treatment           NaN               True  2024-05-06 00:58:59.925000   \n",
            "4      treatment           NaN               True  2023-06-25 04:14:41.775000   \n",
            "\n",
            "                                    last_device_used  \n",
            "0  The Tick App/5.0.0 (iPhone; iOS 17.5.1; Scale/...  \n",
            "1  Mozilla/5.0 (Linux; Android 14; Pixel 6 Pro Bu...  \n",
            "2  The Tick App/4.0.8 (iPhone; iOS 17.4.1; Scale/...  \n",
            "3  The Tick App/4.0.8 (iPhone; iOS 17.4.1; Scale/...  \n",
            "4  The Tick App/4.0.3 (iPhone; iOS 16.5; Scale/3.00)   \n",
            "\n"
          ]
        }
      ]
    },
    {
      "cell_type": "markdown",
      "source": [
        "## Cross-check the common email addresses"
      ],
      "metadata": {
        "id": "ysjsoPwbFVBv"
      }
    },
    {
      "cell_type": "code",
      "source": [
        "# Cross-check common email addresses:\n",
        "# We use .str.lower() to ensure case-insensitive matching.\n",
        "pfizer_emails = set(df_email['Email'].str.lower().dropna())\n",
        "users_emails = set(df_users['username'].str.lower().dropna())\n",
        "\n",
        "common_emails = pfizer_emails.intersection(users_emails)"
      ],
      "metadata": {
        "id": "L4OBZDNSjUWg"
      },
      "execution_count": 4,
      "outputs": []
    },
    {
      "cell_type": "code",
      "source": [
        "# Convert the set to a sorted list\n",
        "common_emails_list = sorted(list(common_emails))\n",
        "\n",
        "print(\"Common Emails between the two datasets (Pfizer group):\")\n",
        "print(common_emails_list)"
      ],
      "metadata": {
        "colab": {
          "base_uri": "https://localhost:8080/"
        },
        "id": "VKPUp4xkjsor",
        "outputId": "27fc85f7-92f5-4bcf-8129-e4c4ec8c2287"
      },
      "execution_count": 5,
      "outputs": [
        {
          "output_type": "stream",
          "name": "stdout",
          "text": [
            "Common Emails between the two datasets (Pfizer group):\n",
            "['01-girders.infill@icloud.com', '01johnpete@gmail.com', '03toheeb@gmail.com', '130365@gmail.com', '13plazal@gmail.com', '19dac83@gmail.com', '19mobrien@comcast.net', '19rpm88@gmail.com', '1areebababar@gmail.com', '1mdwatson1@gmail.com', '2mpurnell@gmail.com', '2xatkins@gmail.com', '3181976@gmail.com', '365.samuel.montoya@gmail.com', '3brandonk9@gmail.com', '4nd7ea@gmail.com', '6spdwagn@gmail.com', '945865548@qq.com', 'a.j.wodarczyk@gmail.com', 'a.r.negoita@gmail.com', 'a2sondhi@gmail.com', 'aaa794277@gmail.com', 'aaalberto7@hotmail.com', 'aanal.207@gmail.com', 'aaronchang1985@gmail.com', 'aaronjamesmufc@gmail.com', 'abaldassano468@gmail.com', 'abby.buckland@gmail.com', 'abbybee12345@gmail.com', 'abdulazeezsaad1102@gmail.com', 'abdullahimuhammedashraf222@gmail.com', 'abelman@stonybrookmedicine.edu', 'abertrand430@gmail.com', 'abhinitkothari@gmail.com', 'abhishek.ghevariya@trailx.com', 'abl88@cornell.edu', 'abmcmordie@gmail.com', 'abrahamc16116@gmail.com', 'abramchuk.artsiom@gmail.com', 'abrien57@hotmail.com', 'ac4981@columbia.edu', 'acab520@hotmail.com', 'acbradlee@gmail.com', 'achan900@gmail.com', 'acook1929@gmail.com', 'acoon89@gmail.com', 'adairbartram@gmail.com', 'adambarkley69@gmail.com', 'adamlevi78@gmail.com', 'adamsongms@gmail.com', 'adashlee2006@gmail.com', 'adelaney1991@gmail.com', 'adesolomon975@gmail.com', 'adeyemogoodness0@gmail.com', 'adigeronimo71@gmail.com', 'adri.rebelato@gmail.com', 'adrianpalmer0021@gmail.com', 'adrielscholar@gmail.com', 'adrienne.lloyd9@gmail.com', 'aebasini@yahoo.com', 'afm0126@gmail.com', 'agagomez576@gmail.com', 'agallino4@gmail.com', 'agarabet@gmail.com', 'agarnold88@gmail.com', 'agboolajoshuatobi@gmail.com', 'age20d+tick@gmail.com', 'agudio4@aol.com', 'ahkuhn92@gmail.com', 'ahlavelle@yahoo.com', 'ahmantam1@gmail.com', 'aidevisa48@gmail.com', 'aignacio@live.com', 'ainec243@gmail.com', 'ainslieb@verizon.net', 'aisak100001@gmail.com', 'ajaxiscool3@gmail.com', 'ajayiiyabodeomolaraonikanni@gmail.com', 'ajhachten@gmail.com', 'ajuraschek@gmail.com', 'akgokey@verizon.net', 'akinkuebib@gmail.com', 'akshayboston@gmail.com', 'alaa_25_6@hotmail.com', 'alaamir2004@gmail.com', 'alade2762@gmail.com', 'aladebadsd@gmail.com', 'alainmalfonso@outlook.com', 'alanys1086abg@gmail.com', 'albertbames@gmail.com', 'alberto3344giraldo@outlook.com', 'albertrains983@gmail.com', 'alejandro.pacheco.c@gmail.com', 'aleung4800@gmail.com', 'alexandergray1628@gmail.com', 'alexanderperlin94@gmail.com', 'alexandracosta1618@yahoo.com', 'alexandragraceclark@gmail.com', 'alexandramarbia@yahoo.com', 'alexawhite1125@aol.com', 'alexconnors45@gmail.com', 'alexcrouch4812@gmail.com', 'alexis.davidson221@gmail.com', 'alexisleslie39@gmail.com', 'alexmoorewin@gmail.com', 'alexnlau@gmail.com', 'alfredo.hernandez121@gmail.com', 'ali.ross422@gmail.com', 'alice.gundilovich@gmail.com', 'alicemayliu888@gmail.com', 'aliceslee103@gmail.com', 'alicia_baik@hotmail.com', 'aliciapark004@gmail.com', 'aliengirl426@hotmail.com', 'alimgc16@gmail.com', 'alinasalustiano@gmail.com', 'aliquinnn@yahoo.com', 'allan.s.bradley@gmail.com', 'allison.choi.lawl@gmail.com', 'allison.lewandowski1@gmail.com', 'allsports25@hotmail.com', 'almustapha24434@gmail.com', 'alogan1562@gmail.com', 'aloyfman@sloan.mit.edu', 'alslabosky@gmail.com', 'altdj14@aol.com', 'alvin.case@mac.com', 'alykiz@aol.com', 'alyson.drnek@hotmail.com', 'alyssa.j.ratledge@gmail.com', 'alyssarusso22@gmail.com', 'am8984778@gmail.com', 'amandac9@live.com', 'amandaklerner@gmail.com', 'amandamarchica@gmail.com', 'amandamarie815@yahoo.com', 'amandapanduh1@gmail.com', 'amarallayla41@gmail.com', 'amardin@msn.com', 'amarisvd6129@gmail.com', 'amber.kavka.warren@gmail.com', 'amelianoah217@gmail.com', 'amermell@gmail.com', 'amirbj@gmail.com', 'amirul.pollyshree@gmail.com', 'amounanyc@icloud.com', 'amritads91@gmail.com', 'amsais63@gmail.com', 'amybasso@speechlanguageleague.com', 'amybranson007@gmail.com', 'amydane@rcn.com', 'amyjeon0407@gmail.com', 'amymikkola@gmail.com', 'analauraalbuquerque63@gmail.com', 'anasylviaramos82@gmail.com', 'anayah.desai@gmail.com', 'andasubs@icloud.com', 'andeep6@gmail.com', 'andersonremalio@gmail.com', 'andersonrog8@gmail.com', 'andre.abaya@gmail.com', 'andrea.luker@yahoo.com', 'andrea17nl@yahoo.com', 'andreabushman476@gmail.com', 'andreacuin61@gmail.com', 'andreajcampagna@gmail.com', 'andreszamora222222@gmail.com', 'andrew.f.chen@gmail.com', 'andrew.grefig@gmail.com', 'andrew.m.luckett@gmail.com', 'andy.o.loaiza@gmail.com', 'andykay98@gmail.com', 'angelamerkel2465@gmail.com', 'angelcameron3323@yahoo.com', 'angiegye1970@gmail.com', 'angiesan@aol.com', 'angiesstamos22@outlook.com', 'angler56@optonline.net', 'ann.willemin@aol.com', 'annabellel@aol.com', 'annagzaniolo@gmail.com', 'annaheeder@gmail.com', 'anndecruz@hotmail.com', 'anne+skapnick@gmail.com', 'anne.zarinnia@gmail.com', 'anniesmith@optonline.net', 'annieswales22@yahoo.com', 'annikaarchie1@outlook.com', 'annyc55@gmail.com', 'anoel86@mac.com', 'ant2nyb@gmail.com', 'anthony05499@gmail.com', 'anthonycalderonee@gmail.com', 'anthonydelgenio@gmail.com', 'anthonyrockwood60@gmail.com', 'anthonysanders154@gmail.com', 'antoine.andrade122@gmail.com', 'apallant2@gmail.com', 'apark3303@hotmail.com', 'apete@comcast.net', 'aplazere@gmail.com', 'apoorvasakthivel@gmail.com', 'aprilhopcroft@gmail.com', 'aqsa.mabood09@gmail.com', 'araysizzle27@gmail.com', 'arbyz_4@jotmail.com', 'arcanedavid@outlook.com', 'archer.eric.j@gmail.com', 'arianasoto1@gmail.com', 'arianne.okane@gmail.com', 'ariddle100@gmail.com', 'arischavez223@gmail.com', 'arisingstar22@msn.com', 'armandocanaljr@gmail.com', 'arnold.kamis@gmail.com', 'arpana.bugalia@gmail.org', 'arpappoo@gmail.com', 'art.dupree@att.net', 'aschuller815@gmail.com', 'aseraf@aol.com', 'ashleyballowe.gmail.com', 'ashleydjones6@gmail.com', 'ashleynonette@gmail.com', 'ashleyruiz1493@hotmail.com', 'ashu33@bu.edu', 'ashyc8669@gmail.com', 'atesnakislmhc@gmail.com', 'atwalsh@eckerd.edu', 'aubreyestes@ymail.com', 'audrius75@hotmail.com', 'auglialoro@comcast.net', 'aummoali@gmail.com', 'austincraig2255@gmail.com', 'austinditz@gmail.com', 'austinmarvel737@gmail.com', 'austint423@gmail.com', 'austinwilliams216@gmail.com', 'avagracemonti@gmail', 'avajames840@gmail.com', 'awicky006@gmail.com', 'awrand49@gmail.com', 'ayaliyu6@gmail.com', 'aylaalsebai@gmail.com', 'az17898620@gmail.com', 'aznsoccerplayer1111@yahoo.com', 'azobian59@gmail.com', 'b.murphy49@yahoo.com', 'b.p.beames@gmail.com', 'b25english@gmail.com', 'babies20709@gmail.com', 'babydenis8@gmail.com', 'babynavarro88@gmail.com', 'bam72v@hotmail.com', 'barbarajlottero@gmail.com', 'barbie5333@aol.com', 'baredbelgacem@gmail.com', 'barongreg27@gmail.com', 'barrilealan@gmail.com', 'barrios778688@gmail.com', 'bartlyfanum@gmail.com', 'basi.bobby@gmail.com', 'bastgoddess7@yahoo.com', 'batmanteamrock21@gmail.com', 'batyamarcus23@gmail.com', 'baycoathe@gmail.com', 'baylies7@cs.com', 'bayodealuko01@gmail.com', 'bbdsj@aol.com', 'bbkirschner@gmail.com', 'bcary95@gmail.com', 'bdelcolle70@gmail.com', 'bdonahoe17@yahoo.com', 'beatrice.moreland@loreal.com', 'beaurichards@me.com', 'becca.kurie@gmail.com', 'beckisandro7@gmail.com', 'beckyshoffman11@gmail.com', 'beeboy63@gmail.com', 'beejay7115@gmail.com', 'beerlyn@msn.com', 'beerszachary@gmail.com', 'bellabree44@gmail.com', 'bellarmora2003@gmail.com', 'bellsvictoria2405@gmail.com', 'benjacob244@gmail.com', 'benjamin.khalim@icloud.com', 'benjamin.leddy@gmail.com', 'benjaminmillar2580@gmail.com', 'benjaminoliver040@gmail.com', 'benjamintheodore552@gmail.com', 'benjohnson136@gmail.com', 'bennett.baumer@gmail.com', 'bennyshu168@gmail.com', 'bentleyharvey411@gmail.com', 'benwhite821628@gmail.com', 'bere02gold@yahoo.com', 'bernard598smith@gmail.com', 'bernardwilliam469@gmail.com', 'berthatierney2@gmail.com', 'bertramsarah99@gmail.com', 'beth.zweig@gmail.com', 'bethanylgriles@gmail.com', 'bethjrosen@gmail.com', 'bethnilseh@gmail.com', 'betsywegman@aol.com', 'bgoldman1234@hotmail.com', 'bhanu_usa@yahoo.com', 'bhaskar.chintada@gmail.com', 'bidenjohnson74@gmail.com', 'bill.sloan@icloud.com', 'billabob37@yahoo.com', 'billbusto@yahoo.com', 'billidonald607@gmail.com', 'billingkline60@gmail.com', 'billitpro@optoine.net', 'billylobue@gmail.com', 'bizzy330@yahoo.com', 'bkush903@gmail.com', 'blakeme@gmail.com', 'bleusko@gmail.com', 'blg17@aol.com', 'blodgett.kiley@gmail.com', 'bloomssamuel@gmail.com', 'bluemeadow4@aol.com', 'bmarious@tahoo.com', 'bmb531@nyu.edu', 'bmetivie@comcast.net', 'bmorris43@verizon.net', 'bmrosko@optonline.net', 'bmt216a@optonline.net', 'bmugo507@gmail.com', 'bob_shine@verizon.net', 'bobbieviens@gmail.com', 'bobgregory@gmail.com', 'bohlingdouglas@gmail.com', 'bohorquezokelberry236@gmail.com', 'bordo119@aol.com', 'boris@cic.com', 'boston6000@aol.com', 'boyega71@gmail.com', 'braddavilaramos@gmail.com', 'bradhn@mindspring.com', 'bradley.golden@gmail.com', 'bradley.ma7@gmail.com', 'bradstonwilliam@gmail.com', 'brandiharden2019@gmail.com', 'brandimanak@gmail.com', 'bren.young.12@gmail.com', 'brenda.coffield@gmail.com', 'brendan.fennessy@yahoo.com', 'brendandraper@mac.com', 'brendanjkearney@gmail.com', 'brendantmaher5@gmail.com', 'bria415@gmail.com', 'brian.hromisin@yahoo.com', 'briangabby8@gmail.com', 'briankernan2@gmail.com', 'briann1959@aol.com', 'brianna3bmf@yahoo.com', 'briannamc1987@gmail.com', 'brigitte.e528@gmail.com', 'brihanna331@icloud.com', 'brittney.scannell@stonybrook.edu', 'brogerphilip@gmail.com', 'brooklyndesi@hotmail.com', 'brothmeier@diverseprinting.com', 'brownkurzum08@gmail.com', 'bryanschulman@gmail.com', 'bryantliriano1@gmail.com', 'brytonchow6868@gmail.com', 'bsa101387@gmail.com', 'bsells888@gmail.com', 'btuths@mit.edu', 'buckellen22@gmail.com', 'bunkerpant@aol.com', 'butafish9@aol.com', 'buttonwood34@yahoo.com', 'buy718@aol.com', 'bzacher100@gmail.com', 'c.adcock97@gmail.com', 'c.mspencer@icloud.com', 'cabanabythesea51@yahoo.com', 'cabezacromadassss@outlook.com', 'caitlin.lowrie@gmail.com', 'caitlinjquan@gmail.com', 'caldeiralisia@yahoo.com', 'calebdenvers393@gmail.com', 'caljd@verizon.net', 'callahan.cathleen@gmail.com', 'callan.decosta@gmail.com', 'callyxnoelle@gmail.com', 'cameliavalhuerdi@gmail.com', 'cameroniensis@yahoo.ca', 'camhall235@gmail.com', 'camiloandrescalamar@proton.me', 'camilopardo3334444@outlook.com', 'camp.tess@gmail.com', 'campbellornell120@gmail.com', 'campitos2718@gmail.com', 'can.c.sun@outlook.com', 'capafd@gmail.com', 'capedewsy@yahoo.com', 'caraconaboy@gmail.com', 'caraglynn01@gmail.com', 'carbsupriya@gmail.com', 'carebear021781@aol.com', 'careycuevas2@gmail.com', 'carleolson@protonmail.com', 'carlndi@verizon.net', 'carlyabramson1@gmail.com', 'carmen583@comcast.net', 'caroleannequigley@gmail.com', 'carolgirl42@aol.com', 'carolinajane567@gmail.com', 'carolinegriffin333@gmail.com', 'carolynfra0@gmail.com', 'carolynmorrow1122@gmail.com', 'carriefuhr@gmail.com', 'carrsy07@yahoo.com', 'casa@terpmail.umd.edu', 'casecky@gmail.com', 'caseydavis551ft33@gmail.com', 'caseypaulb@gmail.com', 'caspersil3nc3@icloud.com', 'cassandraleewgeeler@gmail.com', 'catheblessed64@gmail.com', 'catherine.groux@gmail.com', 'cathiemarkow@gmail.com', 'cathypan213@gmail.com', 'catquarks@gmail.com', 'catross34@hotmail.com', 'cats4me79@gmail.com', 'catsew1@gmail.com', 'cbeach41@aol.com', 'cbmcdermott@gmail.com', 'ccoconutz2004@yahoo.com', 'ccsox@hotmail.com', 'cdhonan@comcast.net', 'cdjones75@gmail.com', 'cdores9', 'cdores9@gmail.com', 'ceciliawill82@gmail.com', 'celestialfatty@gmail.com', 'cellobee@aol.com', 'celx@live.com', 'cem19680@gmail.com', 'cesar.vinocur@gmail.com', 'cesarjoshuacamacho@gmail.com', 'cfour7@gmail.com', 'chadfedewa@hotmail.com', 'chao.h@icloud.com', 'chaowei0826@gmail.com', 'charg193@aol.con', 'charipisti@gmail.com', 'charleighkilgallon1122@gmail.com', 'charles@nuttall.com', 'charlesbrainin@gmail.com', 'charrop34@gmail.com', 'charvezmarcos56@gmail.com', 'chaujenting@yahoo.com', 'chavez.ever.a@gmail.com', 'chayamoses5@gmail.com', 'chenjunlee@gmail.com', 'cheyennehhoffman@yahoo.com', 'chigirevilya@gmail.com', 'chloetuner2@gmail.com', 'choey@mail.smcvt.edu', 'chris@agwmsp.com', 'chrisdilapi@gmail.com', 'chrisjenas469@gmail.com', 'chrislee12@me.com', 'chrism5star@aol.com', 'chrismartinphd@gmail.com', 'chrisrobinson2543@gmail.com', 'christa.santulli@yahoo.com', 'christelaf27@gmail.com', 'christiand1776@gmail.com', 'christianjohnson6363@gmail.com', 'christianlady.jd@gmail.com', 'christianmichaelnewcome@gmail.com', 'christina.temes@gmail.com', 'christinabaronn@gmail.com', 'christinabe97@gmail.com', 'christine.loftus.conway@gmail.com', 'christinempash@gmail.com', 'christopher.c.buck@gmail.com', 'christopheryustin@gmail.com', 'chu.bernice@gmail.comc', 'ciferx95@gmail.com', 'cilia.scifo@gmail.com', 'cinasoraya@yahoo.com', 'cjbridgesus@outlook.com', 'cjmalico@gmail.com', 'cjohns820@gmail.com', 'cjutting@gmail.com', 'ckent12@verizon.net', 'ckeyes0000@gmail.com', 'clarauto99@gmail.com', 'classicalmom247@gmail.com', 'clemssteve81@gmail.com', 'clevergavilanes@hotmail.com', 'clh62@verizon.net', 'clinbowymartins@gmail.com', 'clintonlarry000@gmail.com', 'clkublin@hotmail.com', 'cmachaby@gmail.com', 'cmasabi@msn.com', 'cmg9329@gmail.com', 'cmhughes317@gmail.com', 'cminerella@outlook.com', 'cn6rob@aol.com', 'cody.tremblay@gmail.com', 'colemanhorsley@gmail.com', 'collados1914@gmail.com', 'collectspandas@aol.com', 'columbia1263@gmail.com', 'conalethomas902@gmail.com', 'condylack53@gmail.com', 'confessorfrank@gmail.com', 'conradl@verizon.net', 'constancedanielle0@gmail.com', 'cookie075@verizon.net', 'corinne.popp@gmail.com', 'corriganhalpernroley@gmail.com', 'coryagranger@gmail.com', 'cpowell54@gmail.com', 'craig.cerca@gmail.com', 'craigbfreeman@gmail.com', 'craigraymond01@hotmail.com', 'cranial_purity_0r@icloud.com', 'cravenjeffery4@gmail.com', 'crawfordtrist@gmail.com', 'cre612@aol.com', 'cristinalosapio@live.com', 'cronindnl@gmail.com', 'crosbydawn05@gmail.com', 'crump.allison@gmail.com', 'crystal.boire@gmail.com', 'cs.chrissylvia@gmail.com', 'cs3822@columbia.edu', 'csedita@gmail.com', 'csg1006@gmail.com', 'cshealincrowley@gmail.com', 'cshuming@gmail.com', 'csksaranga@yahoo.com', 'csulliv21@gmail.com', 'ctrifiro@gmail.com', 'curb-splay.0c@icloud.com', 'curiousimbroglio@gmail.com', 'curtisbuckner1@gmail.com', 'custodio.alondra@gmail.com', 'cvjason56@gmail.com', 'cyndileventhal@aol.com', 'cyngallardo@gmail.com', 'cyril.kanchan@gmail.com', 'cyzlin@hotmail.com', 'd.avidchurella@gmail.com', 'd.franko@neu.edu', 'd.g.walton75@gmail.com', 'd.maffe@verizon.net', 'da77wf@gmail.com', 'dabrams@iacorp.net', 'dacbron@aol.com', 'dadarogers783@gmail.com', 'dadsfavor8@yahoo.com', 'dafuzz22@gmail.com', 'dahouff78@gmail.com', 'daisyryan32@gmail.com', 'dajag03@gmail.com', 'dam11209@aol.com', 'danabenzonigoetz@gmail.com', 'danah2000.k.h@gmail.com', 'danahaff@hotmail.com', 'danenemls@yahoo.com', 'danhs1@msn.com', 'daniel.masata@gmail.com', 'daniel4up@gmail.com', 'danielgreat050@gmail.com', 'danieljoe448@gmail.com', 'danielleconnell@gmail.com', 'daniellecrocoll@aol.com', 'daniellejenkins10@gmail.com', 'danielrichard7050@gmail.com', 'danielsimon409@gmail.com', 'danielwilson5764@gmail.com', 'danielwood01p@gmail.com', 'danielzheng.292@gmail.com', 'danny.acevedo08@gmail.com', 'dannygarf@yahoo.com', 'dannyklee2b@gmail.com', 'dannywilson1210@gmail.com', 'dantejoaquinny@gmail.com', 'dark5pikachu@gmail.com', 'daroldmullins92@gmail.com', 'dart129@msn.com', 'dataylor15@gmail.com', 'dave.danehy@nemoves.com', 'dave4_5752@yahoo.com', 'daveben1131@gmail.com', 'daveioe65@gmail.com', 'davelawr@juno.com', 'davemendelson@gmail.com', 'davenora019@gmail.com', 'david.h.evans61@gmail.com', 'david.snow001@gmail.com', 'david@drhagen.com', 'davidacampbell@comcast.net', 'davidmark141022@gmail.com', 'davidmarr1144@gmail.com', 'davidtholmes315@yahoo.com', 'daviesyoung353@outlook.com', 'davonbomar@gmail.com', 'dawnlhargraves@gmail.com', 'dawnnevarez@yahoo.com', 'dayna467@yahoo.com', 'daysisarmiento998@gmail.com', 'dbabe338@gmail.com', 'dbasilone1@fordham.edu', 'dbeck29@optonline.net', 'dbeckenhaupt@gmail.com', 'dbnicole86@gmail.com', 'dcbevilac@gmail.com', 'dchang2005@gmail.com', 'dchuk66@gmail.com', 'dcmp12@gmail.com', 'ddebpoke@aol.com', 'ddupre@comcast.net', 'deandrejknight@gmail.com', 'deandreknight32@gmail.com', 'deannarosehorton@gmail.com', 'dearmas.jn@gmail.com', 'debbipolar@yahoo.com', 'debdonaghue@gmail.com', 'debg101@comcast.net', 'debora.toth@gmail.com', 'deborahl124@aol.com', 'debosuch11@gmail.com', 'debracb@yahoo.com', 'deckertimothy43@gmail.com', 'dedyagus421@yahoo.co.id', 'deeflat333@gmail.com', 'delilah.floriano@yahoo.com', 'demetriusguillaume@gmail.com', 'denise.per897@gmail.com', 'denisemk1954@yahoo.com', 'denissetorresv29@gmail.com', 'dennetttracey2@gmail.com', 'dennisjohnson9654@gmail.com', 'denos22k@gmail.com', 'deremyleon8@gmail.com', 'dericdickens@gmail.com', 'desertny@aol.com', 'desicoyle7307@gmail.com', 'destenyc@hotmail.com', 'destinydunner@gmail.com', 'devonkimbrel@ymail.com', 'dfmacdowell@gmail.com', 'dfrost23@gmail.com', 'dgucker@illinois.edu', 'dgula1091@aol.com', 'dheim@optonline.net', 'dhercules384@gmail.com', 'dhernandez5250@gmail.com', 'dhowe5515@gmail.com', 'dia129@aol.com', 'diana.canaan@gmail.com', 'dianacarulli@gmail.com', 'diane.grace38@yahoo.com', 'dianewis@gmail.com', 'dianna.blaylock@gmail.com', 'diannathomasina.gmail.com', 'diazmarco1019@gmail.com', 'dick.white41@gmail.com', 'diksha.boken@outlook.com', 'dinna12344@gmail.com', 'dionmichael@comcast.net', 'dirtyears2004@gmail.com', 'divyab17@gmail.com', 'dixon3037@gmail.com', 'djbmarciano@gmail.com', 'djmrmeyer@msn.com', 'djvjr07@gmail.com', 'dk100200@aol.com', 'dkazberouk@gmail.com', 'dkcohan719@gmail.com', 'dlg2141@columbia.edu', 'dmacdonald@hotelmc.net', 'dmanuel.main@gmail.com', 'dmcginniss@hotmail.com', 'dmdaly23@comcast.net', 'dml66@aol.com', 'dmsmss22@gmail.com', 'dnye629@gmail.com', 'doclmjh@gmail.com', 'docvalentina18@hotmail.com', 'dogerr358@prin.be', 'doitforyou13@gnail.com', 'doja07@gmail.com', 'dolcottconsulting@gmail.com', 'dolma152002@yahoo.com', 'dolphin5380@yahoo.com', 'donatela93@hotmail.com', 'donbakca@yahoo.com', 'donnarichie94@gmail.com', 'donnpb@gmail.com', 'doreen59hoffman@gmail.com', 'doreenmason@icloud.com', 'doriancamilos223q3@outlook.com', 'dorianmikoloko@gmail.com', 'dorisgoulet@yahoo.com', 'dorotheajordan@gmail.com', 'dorsa.shahrestani@gmail.com', 'dottio92@gmail.com', 'doug55579@yahoo.com', 'doug@bakermail.me', 'douglas_t_lee@aya.yale.edu', 'dougyounie@gmail.com', 'dp81997@gmail.com', 'dpdoucette@me.com', 'dpnpcloudnine@aol.com', 'dr.bob.thacker@gmail.com', 'dr.funk1@mac.com', 'dragonballz', 'drbvmittal@yahoo.com', 'dreyjames29@gmail.com', 'drkarenmartin03@tahoo.com', 'drmousmanshah@gmail.com', 'drsanchez@rcn.com', 'ds616729@gmail.com', 'ds6872634@gmail.com', 'dsedman272@gmail.com', 'dsilvey@gmail.com', 'dsmicale@gmail.com', 'dtalliniweiss@hotmail.com', 'dtorres48732@gmail.com', 'duals6778g', 'duals6778g@gmail.com', 'dubanfelipecorreagarzon@gmail.com', 'dubfunsky@merry.pink', 'dudleydooright08@gmail.com', 'dunyah97@icloud.com', 'dwnm316@gmail.com', 'dwoolley55@gmail.com', 'dxconscious@gmail.com', 'dzs@alum.mit.edu', 'e.hardman@neu.edu', 'e4757299@gmail.com', 'eachtziger@yahoo.com', 'earljewett5@gmail.com', 'earthmanneil@yahoo.com', 'ebenezerpopoola11@gmail.com', 'ebrucatal35@gmail.com', 'ebs725@gmail.com', 'ecoyne00@aol.com', 'ectberg@gmail.com', 'ectsigas@gmail.com', 'ecusick@hotmail.com', 'edg@deckersds.com', 'edithgarz11@yahoo.com', 'eduardosteel6@gmail.com', 'edwardemerson435@gmail.com', 'edwardlacure@comcast.net', 'edwards@muhlenberg.edu', 'edwardsweeney101@netscape.net', 'eercolino@hotmail.com', 'eerickson552@gmail.com', 'eet824@gmail.com', 'eflinc@optimum.net', 'egdelano@comcast.net', 'eggsplitter@aol.com', 'eglv199407@gmail.com', 'ej_henderson@yahoo.com', 'ejchien@gmail.com', 'ekalish@gmail.com', 'el7802011@gmail.com', 'elenagraceffa@yahoo.com', 'elenamdowling@icloud.com', 'eliaswan@gmail.com', 'elibran24@comcast.net', 'elisabeth.m.simonin@gmail.com', 'elisagarcia6590@gmail.com', 'elisamoore0147@gmail.com', 'elizabeth.kehoe222@gmail.com', 'elizabethgre7@gmail.com', 'elizabethjohn198y@gmail.com', 'elizabethmickelson@gmail.com', 'elizabethsolowinska2925@gmail.com', 'ellenrosenfeld1@gmail.com', 'elo1grand@yahoo.com', 'elon01tesla01@gmail.com', 'elonsaches@gmail.com', 'elshallomd5@aol.com', 'emaguire2@bostonpublicschools.org', 'emily.gregonis@gmail.com', 'emily.monaco11@gmail.com', 'emilyliam064@gmail.com', 'emilymh206@gmail.com', 'emilyplump@gmail.com', 'emmarudiga@outlook.com', 'emmygbemi1234@gmail.com', 'emmyghostcat@gmail.com', 'endcop64@haren.uk', 'eohebshalom@yahoo.com', 'eparvar2@gmail.com', 'erencosta354@gmail.com', 'eric.karstunen@gmail.com', 'erica.sills@gmail.com', 'ericalebronsosa@gmail.com', 'ericbryan018@gmail.com', 'ericlin494@gmail.com', 'ericpincus@yahoo.com', 'erics', 'ericschlobohm@gmail.com', 'ericsitues gmail.com', 'ericskeels@gmail.com', 'erigagift@outlook.com', 'erik.hoyt@gmail.com', 'erikwilliams0906@gmail.com', 'erin.gibeau@gmail.com', 'erinccoluci@yahoo.com', 'erinhenthorn03@gmail.com', 'erink328@gmail.com', 'erinozger@gmail.com', 'ernestbower4@gmail.com', 'ernestcavallo@aol.com', 'eryndoran@gmail.com', 'eschmee@gmail.com', 'esegal32@hotmail.com', 'esimitian@yahoo.com', 'ethanolive27@gmail.com', 'ethelbookert280@gmail.com', 'etohjy@gmail.com', 'eugene.ignatenko@gmail.com', 'eunjiseo@yahoo.com', 'eurbina@umass.edu', 'evalinapendleton1@outlook.com', 'evanjohn1745@gmail.com', 'evarc1124@gmail.com', 'evelynrodriguez554@outlook.com', 'evie246@gmail.com', 'ew94431@gmail.com', 'explosivetatertot@gmail.com', 'eyesonmyhorizon@gmail.com', 'f.austin2370@gmail.com', 'f4eeloadree@gmail.com', 'fadekunle677@gmail.com', 'faithbenjamin059@gmail.com', 'fallier44@optinline.net', 'famarino@comcast.net', 'fanasal3@yahoo.com', 'fantigrossi44@gmail.com', 'faray4real@gmail.com', 'farfar1820@yahoo.com', 'farrellann@gmail.com', 'fastmoves@gmail.com', 'favoursolos@outlook.com', 'fben16052', 'fee4ka@gmail.com', 'feezaaxavi@outlook.com', 'felix.moy@gmail.com', 'felixanthony0107@gmail.com', 'fenytp2008@hotmail.com', 'ferozeahamed@aol.com', 'ferretsrgreat@gmail.com', 'ferroski@yahoo.com', 'fever845@gmail.com', 'ff958867@gmail.com', 'ffilc_low@hotmail.com', 'fifthsibling@comcast.net', 'fionadowling825@gmail.com', 'fionaliu27555@gmail.com', 'fionaliu2755@gmail.com', 'fiorellalucia@gmail.com', 'fisherk2@michigan.gov', 'fishpeters3@gmail.com', 'fittersampson@gmail.com', 'fitzgerald.augusta@gmail.com', 'fitzsimons1@comcast.net', 'fixmfna9ee@gmail.com', 'fleckj18@aol.com', 'flem26@hotmail.com', 'fleming.sarah.m@gmail.com', 'flickdavid37@gmail.com', 'florajerry141@gmail.com', 'floraleee555@gmail.com', 'flutewave19@gmail.com', 'flyingkiwifruits@gmail.com', 'fontes.livia09@gmail.com', 'foo4thought@gmail.com', 'fosterliza566@gmail.com', 'fowler.ryanc@gmail.com', 'foxytrail@aol.com', 'francesca.vallese84@gmail.com', 'francescaruggiero1@gmail.com', 'francisdaniel22222@gmail.com', 'frankbee123@hotmail.com', 'frankbonny67@gmail.com', 'frankdavid774737@gmail.com', 'frankjully878@gmail.com', 'frankjy878@gmail.com', 'frankmorgan24916@gmail.com', 'franqui89@yahoo.com', 'fratusray@yahoo.com', 'fredgojo@outlook.com', 'fredguidone827@gmail.com', 'fredjoseph2050@gmail.com', 'freejoke3@gmail.com', 'friedseas@gmail.com', 'frolova.kseniaxx@gmail.com', 'fshuman78@gmail.com', 'fsoorenko@gmail.com', 'ftakelait@gmail.com', 'g6353448@gmail.com', 'gabe.kennedy@me.com', 'gabeasman@gmail.com', 'gagaewp@gmail.com', 'gagen.elizabeth@gmail.com', 'gagoo4@comcast.net', 'gallacticbuttercup@gmail.com', 'garman6@hotmail.com', 'garry6161@gmail.com', 'garyd525@comcast.net', 'gbonaventura@verizon.net', 'gc1@alabe.com', 'gcataloni@gmail.com', 'gds61@msn.com', 'ge.lige@gmail.com', 'gebbgebb1@gmail.com', 'gehsidbdhise6@gmail.com', 'geishav1215@gmail.com', 'gena.chinea@gmail.com', 'genevieve.doner@gmail.com', 'geninsp747@yahoo.com', 'georgeorge555@gmail.com', 'georgephillip0108@gmail.com', 'gepcp2@gmail.com', 'geraldt793@gmail.com', 'gerrardluise0@gmail.com', 'gerrywardwell@mac.com', 'gfsadni@mac.com', 'ggay1973@yahoo.com', 'ggibeau529@gmail.com', 'ghkok1@gmail.com', 'ghobs4@gmail.com', 'giallongoanthony@gmail.com', 'giff5757@msn.com', 'gimpydls@aol.com', 'ginagris@yahoo.com', 'giovannalucia73@gmail.com', 'girlynike1@hotmail.com', 'girouxselena@gmail.com', 'gladysmol0613@gmail.com', 'glendaespy@aol.com', 'glenn.suss@verizon.net', 'glodavieglodavie@gmail.com', 'glwgpdr@gmail.com', 'gmc214@verizon.net', 'gmmirabella@gmail.com', 'gogreenbuffalo@gmail.com', 'goldman387@icloud.com', 'goldmanmaya49@gmail.com', 'golfindolfintips@aol.com', 'gonzalocamilo55@gmail.com', 'gordongold44@gmail.com', 'gprophete79@gmail.com', 'graayyce@gmail.com', 'grace.a.wexler@gmail.com', 'gracie7912@gmail.com', 'gracieyc@gmail.com', 'grancy5@gmail.com', 'graphictraffic@me.com', 'gravedaniels00@gmail.com', 'graychristian423@gmail.com', 'greathazel563@gmail.com', 'greatparts@hotmail.com', 'greentobrown@gmail.com', 'greenvlln@gmail.com', 'greggymike10@gmail.com', 'gregschmidtnyc@gmail.com', 'greysherlock22@gmail.com', 'gristaino2001@yahoo.com', 'grknyc22@aol.com', 'gsammis87@gmail.com', 'gsandrew@yahoo.com', 'gtyranski@icloud.com', 'gugracietti16@gmail.com', 'gundilov@yahoo.com', 'guruoflazy@yahoo.com', 'gzulkof@gmail.com', 'haha2120@icloud.com', 'hakletzien@gmail.com', 'haley.legere1204@gmail.com', 'halimahmeddy@gmail.com', 'hamiltonjames0912@gmail.com', 'hana.shuck@gmail.com', 'hanaridko@gmail.com', 'hankspatricia26@gmail.com', 'hannah600600@icloud.com', 'hannarigg7@gmail.com', 'hardypatricia399@gmail.com', 'haroldwade1010@gmail.com', 'harpermia417@gmail.com', 'harrisken560@gmail.com', 'harrismcwade@comcast.net', 'harrydest4@gmail.com', 'harryjohn55548@outlook.com', 'harryjones1628@gmail.com', 'harrystewart1259@gmail.com', 'hattieoconner7@gmail.com', 'hawkjay57@aol.com', 'haycsc@aol.com', 'hbaeckelandt@giresd.net', 'hbcrockett@gmail.com', 'hbendle72@gmail.com', 'hbettllo08@gmail.com', 'hcalvin133@gmail.com', 'hceung@protonmail.com', 'hcheston@icloud.com', 'hdoaa3530@gmail.com', 'heartstogo@gmail.com', 'heather.marasa@gmail.com', 'heather.wolf@wisconsin.gov', 'heathergaluppo@yahoo.com', 'heathjgoldstein@gmail.com', 'hedrickellis@gmail.com', 'hegarty.kaitlynn@gmail.com', 'hein.matthew@gmail.com', 'helenagabar@gmail.com', 'helenjonathan383@gmail.com', 'helfnelf79@gmail.com', 'hemsworthjordan52@gmail.com', 'henryj7501@gmail.com', 'henryjhu@gmail.com', 'henrysm580@gmail.com', 'herders07_comet@icloud.com', 'hermy9818@gmail.com', 'herpiy9@gmail.com', 'hey@hereshannahs.info', 'highh2o@msn.com', 'hill.bm29@gmail.com', 'hjr3@optonline.net', 'hkahanemd@gmail.com', 'hlfeich@gmail.com', 'hlorderry1980@gmail.com', 'hlucasmurphy@gmail.com', 'hlundy92@gmail.com', 'holly.m.mcandrew@gmail.com', 'hollydewhirst@gmail.com', 'hollyjohnson357@gmail.com', 'hollypiumelli@gmail.com', 'hosmanahmad91@gmail.com', 'hoyerstatus@gmail.com', 'hpercival45@gmail.com', 'hsbrisbane@protonmail.com', 'huanga02@gmail.com', 'hudelson@gmail.com', 'hugamor711@yahoo.com', 'hughes.colin.d@gmail.com', 'huhua7@gmail.com', 'humphreyparker281@gmail.com', 'hungaisabella@gmail.com', 'hussansuhail56@gmail.com', 'huttonward@hotmail.com', 'hy41573@hotmail.com', 'iaestrellayglesias.ie@gmail.com', 'iamjosephr@gmail.com', 'ibrahimjg02@yahoo.com', 'ibrahimjg@yahoo.com', 'ibsulai02@gmail.com', 'idrislawal2335@gmail.com', 'ieshaloney@gmail.com', 'ig79@columbia.edu', 'ikraljic88@gmail.com', 'iliam247ever@gmail.com', 'imb1196@gmail.com', 'imee_bombales@yahoo.com', 'imogenne@gmail.com', 'imretired71613@gmail.com', 'inbersa@gmail.com', 'incretoto@gmail.com', 'indr2213@gmail.com', 'intelligal6@gmail.com', 'iris.g.yu@gmail.com', 'irr21@hampshire.edu', 'irzaudb@gmail.com', 'isaacmartinez1120@gmail.com', 'isaacpeters1202@gmail.com', 'isabellagorski1@outlook.com', 'isabellagorski78@outlook.com', 'isabellapag3407@gmail.com', 'isabellarobert471@gmail.com', 'isaihtb13@gmail.com', 'ishpoudel@gmail.com', 'italyspeaks@gmail.com', 'ivannacampos21@gmail.com', 'iyeoka@yahoo.com', 'j.lawton47@gmail.com', 'j.salvatore.dolce@gmail.com', 'j.sneegas@comcast.net', 'j00955491@gmail.com', 'j9cronin@gmil.com', 'jaani.gandhi@gmail.com', 'jackdickson524@gmail.com', 'jackedward775@gmail.com', 'jackelynraymundo10@gmail.com', 'jackhalf01@gmail.com', 'jackie.campagna7@gmail.com', 'jackmanzo98@gmail.com', 'jackmegia901@gmail.com', 'jacknapper@gmail.com', 'jackson2kingss@gmail.com', 'jacksonorsha@outlook.com', 'jacob.cho@gmail.com', 'jacob.lindamood@gmail.com', 'jacoblyons16@gmail.com', 'jacobs.139@wright.edu', 'jacobsjenifer422@gmail.com', 'jacobwalks23@gmail.com', 'jacodygardner@gmail.com', 'jade39@gmail.com', 'jadehart520@gmail.com', 'jadenanderson021@gmail.com', 'jadesantis@outlook.com', 'jaest808@gmail.com', 'jaferrandino@gmail.com', 'jaj0803@comcast.net', 'jake.gakshteyn@gmail.com', 'jamagirl432@optonline.net', 'jamalbooka@gmail.com', 'jambro@optonline.net', 'james.mccarthy.esq@gmail.com', 'jamesbundy05@gmail.com', 'jamesfranklinn1010@gmail.com', 'jameslograsso@yahoo.com', 'jamesloney@gmail.com', 'jamesmorgan1628@gmail.com', 'jamesowen2221@outlook.com', 'jameswallach@yahoo.com', 'jameswil2990@gmail.com', 'jamie.keel@cambriausa.com', 'jamiegrey057@gmail.com', 'jamiehutcherson9@icloud.com', 'jamiemorgan553@outlook.com', 'jamrod33@icloud@com', 'jane.voytek@gmail.com', 'janejoshua2002@gmail.com', 'janelewis401@gmail.com', 'janellebartley@gmail.com', 'janemo.h884@gmail.com', 'janetcoleman3@gmail.com', 'janice.eyden@gmail.com', 'janotrms@icloud.com', 'jany.villalobos@gmail.com', 'jardinsales@mail.com', 'jareddesrosiers@gmail.com', 'jarena990@gmail.com', 'jas_nykiel@hotmail.com', 'jasmin.bardales0509@gmail.com', 'jasmineditter@outlook.com', 'jasminvrobinson@gmail.com', 'jason1011bruce@gmail.com', 'jasonalvaraz0@gmail.com', 'jasonjemima39@gmail.com', 'jasonritchie275@gmail.com', 'jattodennis6@gmail.com', 'javadeejay@me.com', 'javierarturox@gmail.com', 'jayziah0929@gmail.com', 'jbammi@mac.com', 'jbdewire@aol.com', 'jbubriski@gmail.com', 'jc0rb@aol.com', 'jc5816@columbia.edu', 'jccardoza18@gmail.com', 'jcina10@gmail.com', 'jcman7@aol.com', 'jcoffey85@gmail.com', 'jcronburg@fastmail.fm', 'jdbassuk@yahoo.com', 'jdblom00@gmail.com', 'jdgray0224@gmail.com', 'jdjordan2005@yahoo.com', 'jeddeo.paul@gmail.com', 'jedugger@gmail.com', 'jeffmuldoon@me.com', 'jeffrey24682001@yahoo.com', 'jeffreytchuang@gmail.com', 'jeherz@gmail.com', 'jemsmagicaladventures@gmail.com', 'jen.akula@yahoo.com', 'jenbickman@gmail.com', 'jenfae@yahoo.com', 'jeniquea@hotmail.com', 'jenmor1@aol.com', 'jennasilva924@gmail.com', 'jennifer.moquin@gmail.com', 'jennifer.voce@gmail.com', 'jenniferbasiliere@hotmail.com', 'jenniferfrank21@gmail.com', 'jenniferfurlow22@gmail.com', 'jenniferhall958@gmail.com', 'jenniferhawkins212@gmail.com', 'jenniferjkachler@gmail.com', 'jenniferpalmer747@gmail.com', 'jennoliveira6@gmail.com', 'jennycabas@yahoo.com', 'jennykdean@gmail.com', 'jennykrice@gmail.com', 'jenreedy18@yahoo.com', 'jer29-1114@hotmail.com', 'jerry.jlw@gmail.com', 'jerrydouglas738@gmail.com', 'jerrygoff305@gmail.com', 'jess.peake.7@gmail.com', 'jesse.lj.chen@gmail.com', 'jesse.ribot@gmail.com', 'jesseflick553@gmail.com', 'jesserfarmer@gmail.com', 'jessica.e.giametta@gmail.com', 'jessica.h.huynh@outlook.com', 'jessicahawkins695@gmail.com', 'jessicamrcus4711@gmail.com', 'jessie10503@outlook.com', 'jessiehopkins44@gmail.com', 'jessiemaihos@gmail.com', 'jformie7@aol.com', 'jfrassa1110@gmail.com', 'jfroud@me.com', 'jgibbons980@gmail.com', 'jgroad@gmail.com', 'jhand8944@gmail.com', 'jharboy@yahoo.com', 'jill.grogan@icloud.com', 'jillian.montemayor10@gmail.com', 'jimdrum@gmail.com', 'jimiprovost@gmail.com', 'jimmyneu3@aol.com', 'jimmytabolsky@gmail.com', 'jimohridwan19@gmail.com', 'jin_li6267@hotmail.com', 'jjb423@cornell.edu', 'jjox5@yahoo.com', 'jjprall@yahoo.com', 'jkennedy71@optonline.net', 'jkoli525@gmail.com', 'jlasala12@verizon.net', 'jleja1@gmail.com', 'jlgrenga@hotmail.com', 'jlkropveld@hotmail.com', 'jlprince4@gmail.com', 'jluo6178187307@gmail.com', 'jluo9@bostonk12.org', 'jmanson63@gmail.com', 'jmarcotte40@gmail.com', 'jmaryjane28@gmail.com', 'jmatthee.gardiner@gmail.com', 'jmb5679@yahoo.com', 'jmiller_dowd@yahoo.com', 'jmirra@enesystems.com', 'jmjjmo@aol.com', 'jmk080659@gmail.com', 'jmsuburban@aol.com', 'joanhicks73@gmail.com', 'joankalaher1@verizon.net', 'joanna.eisman@gmail.com', 'joannovack@comcast.net', 'jockboyy@aim.com', 'joddibond@gmail.com', 'jodurnan@comcast.net', 'joe.d.warren@gmail.com', 'joe@catweverett.com', 'joe@panix.com', 'joefigs88@gmail.com', 'joejne500@yshoo.com', 'joel.linscheid@gmail.com', 'joel.lopez@usa.com', 'joeldave023@gmail.com', 'joemicheal648@gmail.com', 'joeydero9@outlook.com', 'john.benjamin1210@gmail.com', 'john.mcquaid@gmail.com', 'johncharlesbriggs@gmail.com', 'johncoady062@gmail.com', 'johnflick469@gmail.com', 'johngigs475@gmail.com', 'johnletizia@yahoo.com', 'johnmellow56471@gmail.com', 'johnmeredith95@gmail.com', 'johnpauul005@gmail.com', 'johnpgarbo@gmail.com', 'johnsimon725@gmail.com', 'johnsmithyy819@gmail.com', 'johnsonkylie145@gmail.com', 'johnsonmike548a@gmail.com', 'johnsonthomas2709@gmail.com', 'johnsontonysmith2@gmail.com', 'jokrok@gmail.com', 'joliemcohen@gmail.com', 'jomartinbrand@gmail.com', 'jomyrah@aim.com', 'jonahscott1993@gmail.com', 'jonathan4ags@yahoo.com', 'joneill3@binghamton.edu', 'jonesimusb25@gmail.com', 'jonesmorna66@gmail.com', 'joolee1993@gmail.com', 'jordanandrew1976@gmail.com', 'jordancruise29@gmail.com', 'jordanlay636@gmail.com', 'joriley16@gmail.com', 'joshuabtarr@gmail.com', 'joshuadoris729@gmail.com', 'joshuamaria739@gmail.com', 'jossy573@gmail.com', 'joulesmo@gmail.com', 'jphil4104@aol.com', 'jptaber@gmail.com', 'jrasin@aol.com', 'jrayeward@gmail.com', 'jrhmarandola@gmail.com', 'jri.straus@gmail.com', 'jsdearruda@gmail.com', 'jstarr6706@aol.com', 'jsydnei@yahoo.com', 'jtrusswll@optonline.net', 'judek2390@gmail.com', 'jujifruit44@gmail.com', 'juleste116@hotmail.com', 'julia.beatty@yahoo.com', 'julia.travers@gmail.com', 'juliakirk@gmail.com', 'juliamilks@gmail.com', 'julies1074@gmail.com', 'juliewang101@gmail.com', 'juravnet@gmail.com', 'jus168jih@gmail.com', 'justadrianwhite@gmail.com', 'justdemola@gmail.com', 'justflaggedships@gmail.com', 'justinapex430@gmail.com', 'justinfaustino244@gmail.com', 'justinmorganj212@gmail.com', 'justinpalmer080@gmail.com', 'justinwinters530@gmail.com', 'justjessicamiller@gmail.com', 'juvn.reyes@gmail.com', 'jwdunn80@gmail.com', 'jwgillen@comcast.net', 'k_volner@yahoo.com', 'kab999@verizon.net', 'kado.chris@gmail.com', 'kaiaf53@aol.com', 'kaiclarke12@gmail.com', 'kaina.crow@gmail.com', 'kaitg7@gmail.com', 'kaitlinmae@gmail.com', 'kaitlyn.grevera@gmail.com', 'kakius86@gmail.com', 'kalfar.jaroslav@gmail.com', 'kalinadebby@gmail.com', 'kalinka.kamenoff@gmail.com', 'kanebrendan49@gmail.com', 'kaniland@yahoo.com', 'kap612@yahoo.com', 'kara.rudolph@gmail.com', 'karen.fuenzalida92@gmail.com', 'karen.plain@gmail.com', 'karenballkies@gmail.com', 'karenemccartney@hotmail.com', 'karenhein75@gmail.com', 'karenliny@hotmail.com', 'karenr1956@hotmail.com', 'karensarabjit@gmail.com', 'kariwinston@aol.com', 'kasandrawatkins@gmail.com', 'kat92365@comcast.net', 'kate.lichten@gmail.com', 'kate.tellers@gmail.com', 'kateedanahy@gmail.com', 'katem5161@gmail.com', 'katerough@yahoo.com', 'katescooter1725@gmail.com', 'kathleenrogers103@gmail.com', 'kathnewell@yahoo.com', 'kathy.dorney@yahoo.com', 'kathylvige@comcast.net', 'kathysburke@gmail.com', 'katie.moravec@gmail.com', 'katyamoniz@gmail.com', 'katykathryn314@yahoo.com', 'kaunithah97.gmail.com', 'kayboi212@outlook.com', 'kayce.m.kane@gmail.com', 'kaylareisxo@yahoo.com', 'kazimamunahmed1987@gmail.com', 'kbarrettpt@aol.com', 'kbeals22@aol.com', 'kberley633@gmail.com', 'kbmd2391@gmail.com', 'kchiara8@gmail.com', 'kcrmj@aol.con', 'kdalton886@gmail.com', 'keana.greene@live.com', 'kechley@gmail.com', 'keclancy24@gmail.com', 'keggy3@verizon.net', 'keith.price@gmail.com', 'kekhan2@gmail.com', 'kelandauer@gmail.com', 'kelli.celentano@gmail.com', 'kelseychapstick@gmail.com', 'keltysmom@gmail.com', 'kelvinowen1994@gmail.com', 'kemilysavage@gmail.com', 'kemkemm996@gmail.com', 'kendrajones841@gmail.com', 'kendy.neri@gmail.com', 'kennedymartini52@gmail.com', 'kenneth04@gmail.com', 'kenny.esco.99@gmail.com', 'kenr14@verizon.net', 'kerrygreg444@gmail.com', 'kesialeson@gmail.com', 'keungwins@gmail.com', 'kevikoo@aol.com', 'kevinbillamay@gmail.com', 'kevincusher2@gmail.com', 'kevingprickett@gmail.com', 'kevinhli77@gmail.com', 'keylla0805@gmail.com', 'kfreesea@yahoo.com', 'kgilli@verizon.net', 'kgirl5107@gmail.com', 'kgustamachio@gmail.com', 'khadem.alain@gmail.com', 'khatrig2@gmail.com', 'khossain1029@gmail.com', 'kian2300@yahoo.com', 'kim935270@gmail.com', 'kimberly@goldthread.org', 'kimberlylizzie3@gmail.com', 'kimberlynmarc@aol.com', 'kimliz54321@gmail.com', 'kimlor@aol.com', 'kimmma24@gmail.com', 'kirak320@gmail.com', 'kitviator@verizon.net', 'kjonesy12@yahoo.com', 'kkat3@comcast.net', 'kkelley13@gmail.com', 'kleathers89@gmail.com', 'kleonhardt@gmail.com', 'klokhei@gmail.com', 'kmanzo476@gmail.com', 'kmbrady13@verizon.net', 'kmchugh0528@gmail.com', 'kmk831@yahoo.com', 'kmoulding79@gmail.com', 'kmwf216@gmail.com', 'kna06@outlook.com', 'knichols005@gmail.com', 'knockout325@gmail.com', 'koksimon24@gmail.con', 'koonscaden@gmail.com', 'kosinski2m@yahoo.com', 'kpach127@gmail.com', 'kpasklof@gmail.com', 'kpfeiler@gmail.com', 'kqrenkennedy@yahoo.com', 'krissycarter@verizon.net', 'kristen.casapulla@gmail.com', 'kristen.knoph@gmail.com', 'kristi.thomas7@gmail.com', 'kristina.boston@gmail.com', 'kristyk333@yahoo.com', 'krizia43@gmail.com', 'krobin122@comcast.net', 'krowickidylan@gmail.com', 'kruggiero27@gmail.com', 'ksbloucks@gmail.com', 'ksfoppe@gmail.com', 'ksiroonian@aol.com', 'ksmarks9@gmail.com', 'ksontag927@yahoo.com', 'ksouza1223@comcast.net', 'kstrikez10@gmail.com', 'kucaslee@gmail.com', 'kuleshov.max.v@gmail.com', 'kumba77@comcast.net', 'kurtking0110@gmail.com', 'kush8293@gmail.com', 'kusinaninida@gmail.com', 'kvalex@gmail.com', 'kvdentaltech@gmail.com', 'kyle.dalton1@outlook.com', 'kyled6398@gmail.com', 'kylegilroy@gmail.com', 'kylemkonarski@gmail.com', 'kyley.krueger@gmail.com', 'kyllerjoa0@gmail.com', 'kzvalentino@gmail.com', 'l1m1s1@verizon.net', 'labdul048@comcast.net', 'labramson55@gmail.com', 'laffanrn@gmail.com', 'lainey557@gmail.com', 'laisureskip@gmail.com', 'lajonze@gmail.com', 'lakeville333@aol.com', 'lalabean2003@gmail.com', 'lalouani@live.com', 'lamineyamal4220@gmail.com', 'lancefrancis9208@gmail.com', 'lanesbuddy2@gmail.com', 'lanfranck112@gmail.com', 'lantyem@gmail.com', 'lapidgeon1@gmail.com', 'lark00217@aol.com', 'larry.truman.60@gmail.com', 'larrycbs614b@gmail.com', 'larrydecoste@hailmail.net', 'larryreiss@aol.com', 'lasaga.server.19@gmail.com', 'lau13087@gmail.com', 'laur.farrell@gmail.com', 'laurahechtman@gmail.com', 'laurakoleson@gmail.com', 'lauraleesebanz@gmail.com', 'laurasilecchia@yahoo.com', 'lauravanderwall11@outlook.com', 'lauren.camillieri@aol.com', 'lauren.m.sallis@gmail.com', 'laurengold79@gmail.com', 'laurengrela@yahoo.com', 'laurenrpatten@gmail.com', 'laurenwoodward421@gmail.com', 'lawrence.whitney.lc@gmail.com', 'lawrenceirby@gmail.com', 'layton.ella1@gmail.com', 'lbarnett6464@gmail.com', 'lc10524@aol.com', 'lchosen1@aol.com', 'ldavidson8804@gmail.com', 'ldiflorio001@gmail.com', 'ldvogelle@gmail.com', 'leannekorber@yahoo.com', 'leeachengyi@gmail.com', 'legacy364@gmail.com', 'lek.p.ryan@gmail.com', 'lena.kadota@gmail.com', 'lenoreatkins@aol.com', 'lentz.heather@gmail.com', 'lentzadn@gmail.com', 'leonarddesmond85@gmail.com', 'leopardkt.pr@gmail.com', 'lesmitch@optonline.net', 'levenstien@gmail.com', 'lewbader@gmail.com', 'lexy.powers@gmail.com', 'lfsimons@aol.com', 'lftennisdirector@hotmail.com', 'lgambrz@gmail.com', 'lgjg83@aol.com', 'lgoldenhar@gmail.com', 'lgreynolds@comcast.net', 'lhall@hockinghealth.org', 'liamdanielengel@gmail.com', 'liana.sandell@gmail.com', 'liangjiaye@yahoo.com', 'licht22a@gmail.com', 'lillianjworth@gmail.com', 'lily.fayerweather@gmail.com', 'lily.g.patt@gmail.com', 'lilyzevel@gmail.com', 'limandana@gmail.com', 'limaquel@aol.com', 'linadifulvio299@gmail.com', 'linda', 'linda.j.ward22@gmail.com', 'linda0501.lz@gmail.com', 'lindal630@aol.com', 'lindastl151310@hotmail.com', 'lindatannen57@gmail.com', 'lindsey.taylor628@gmail.com', 'lindziesimmons@gmail.com', 'lingoldner@verizon.net', 'linhgdinh2412@gmail.com', 'linuswalter077@gmail.com', 'lisa.wollerstein@gmail.com', 'lisaannekatzer@gmail.com', 'lisafrancois84@aol.com', 'lisak4249@gmail.com', 'lisasteph52@gmail.com', 'littlekimberly826@gmail.com', 'littlelinbaby@yahoo.com', 'littleob4@gmail.com', 'liutao21@yahoo.com', 'liz.pugatch@gmail.com', 'lizajanemorse@hotmail.com', 'lizbeth.dariela@gmail.com', 'lizcolesheehan@gmail.com', 'lizzieselmi@gmail.com', 'lizzyjohnson607@gmail.com', 'lizzykimberly3@gmail.com', 'ljc9004@optonline.net', 'ljgambone@gmail.com', 'ljh1120@yahoo.com', 'lmarmo@winston.com', 'lmcosco@gmail.com', 'lnidzyn@gmail.com', 'loly.ridings@gmail.com', 'longstaffwhite@outlook.com', 'looshp2358@gmail.com', 'loqc2004@yahoo.com', 'lora5319@verizon.net', 'lorenagerman3@gmail.com', 'lorettaot53@gmail.com', 'lori00515@yahoo.com', 'lorilawver@gmail.com', 'loritony@optonline.com', 'lorusso1984@yahoo.com', 'loucapo@yahoo.com', 'louisacevedosr@gmail.com', 'louiseanderic@gmail.com', 'louiskennedy27@gmail.com', 'lovemy93vette@aol.com', 'lovethadaji090@gmail.com', 'lpcflores@hotmail.com', 'lrap1843@gmail.com', 'lrspotr@aol.com', 'lsmith626@hotmail.com', 'lteam394@gmail.com', 'lucashenry741@gmail.com', 'lucasjerry469@gmail.com', 'luchydonald445@gmail.com', 'luckyallison518@gmail.com', 'ludianepereira2023csa@gmail.com', 'luellac88@gmail.com', 'luiscuadros11@gmail.com', 'luizdave4812@gmail.com', 'luizpeters00@gmail.com', 'lukecardin@gmail.com', 'lukelongo77@gmail.com', 'lupejoa@yahoo.com', 'luvchrist@gmail.com', 'luvinalu616@gmail.com', 'luwisdavid66@gmail.com', 'lvarnum@comcast.net', 'lw3154@columbia.edu', 'lydiastan@outlook.com', 'lydiayu07@gmail.com', 'lyndsayzastawny@gmail.com', 'lynne930227@gmail.con', 'lzenacohen@gmail.com', 'lzsuzsa@hotmail.com', 'm.3c.9m.martin@gmail.com', 'm.finn@roadrunner.com', 'm2belisle@gmail.com t', 'mablewong429@gmail.com', 'macapozzola@yahoo.com', 'mackenzie.garsan308@icloud.com', 'mackinleytrudeau@gmail.com', 'madeleine.haff@gmail.com', 'madisoncharlotte38@gmail.com', 'madisonmaksy@gmail.com', 'madmarqu08@gmail.com', 'mae.e.donohue@gmail.com', 'mafe.uribejere@gmail.com', 'mahbubahmed859@gmail.com', 'mahmoudbekhiche222@gmail.com', 'mailroom.ambassador@gmail.com', 'makaylahappy@gmail.com', 'malcolm.okaya@gmail.com', 'maleekyoung@gmail.com', 'mamaumbridge97@gmail.com', 'mammanmuhammadu71@gmail.com', 'mamy1212@gmail.com', 'manan811@yahoo.com', 'mansfieldjackh@gmail.com', 'marabiaarikka@gmail.com', 'marasmac@hotmail.com', 'marciamiller08@yahoo.com', 'marena14@hotmail.com', 'margareorenz23@gmail.com', 'margaret.duran@gmail.com', 'margareted2401@gmail.com', 'margauxdejenlis@gmail.com', 'margery.wieder@gmail.com', 'maria.bonilla.moreno@gmail.com', 'mariahreyes10101@gmail.com', 'mariaisland9@gmail.com', 'mariajoseeee@gmail.com', 'marianne.hudelson@gmail.com', 'mariannelinton@gmail.com', 'mariasousa232@gmail.com', 'maricelroyo@yahoo.com', 'marikac86@gmail.com', 'marillhannah@gmail.com', 'mark.weintraub@gmail.com', 'mark@curelop.com', 'markharrisx22@gmail.com', 'markhelder439@gmail.com', 'marklauren610@gmail.com', 'markmegerian@gmail.com', 'marksolis424@gmail.com', 'marktsr@gmail.com', 'markwluhn@gmail.com', 'marshallk7@optonline.net', 'marshallsalowe@hotmail.com', 'martha02324@yahoo.com', 'martiniscott15@gmail.com', 'martinjan742@gmail.com', 'marvin.lei.190@gmail.com', 'marvinsnow1111@gmail.com', 'marvismarvel610@gmail.com', 'mary.presutti@hotmail.com', 'mary_schwager@yahoo.com', 'maryanne0206@comcast.net', 'marybarker1120@gmail.com', 'maryfred586@gmail.com', 'marygm5454@gmail.com', 'maryjames1628@gmail.com', 'maryloue@optonline.net', 'marypattersony185@gmail.com', 'marysam10011@gmail.com', 'masamiinoue@gmail.com', 'mashbucher@outlook.com', 'masonjohn3198@gmail.com', 'masterelthegreat@gmail.com', 'masucci@comcast.net', 'mateolevi812@gmail.com', 'mateotabaresg@gmail.com', 'mathewpinelli@gmail.com', 'matt.mcnamara1@gmail.com', 'matthew.a.traim@gmail.com', 'matthew.m.dambra@gmail.com', 'matthew.s.bickford@gmail.com', 'mattm68@verizon.net', 'mattr85@gmail.com', 'mattwetty@yahoo.com', 'maura.kilcommons@gmail.com', 'max.brivic@gmail.com', 'mayadegshops@gmail.com', 'mayflowerivani@gmail.com', 'maz0327@gmail.com', 'mazupjp@gmail.com', 'mbakerstudio@gmail.com', 'mbfoss06@gmail.com', 'mbpfeffer09@gmail.com', 'mbrandell@att.net', 'mbunnell18@gmail.com', 'mc_7788@yahoo.com', 'mcacciolfi1@verizon.net', 'mccracken.se@gmail.com', 'mcdonalddrr@aol.com', 'mcfong@gmail.com', 'mckenney86@gmail.com', 'mcquown.alex@gmail.com', 'mcstuck20@gmail.com', 'md4god@hotmail.com', 'mdgraeff@yahoo.com', 'mdoylest05@yahoo.com', 'mdrodger211@gmail.com', 'meagan10904@yahoo.com', 'meddjoud.dahmani@gmail.com', 'medinamarcela486@gmail.com', 'medjinedor@gmail.com', 'mefitts47@gmail.com', 'meg.lyb@gmail.com', 'megan.f.maclean@gmail.com', 'megnorkus@gmail.com', 'meiganrocco@gmail.com', 'mekhdoume.brahim74@gmail.com', 'melcosta3@gmail.com', 'melinapena2123@gmail.com', 'melisalynch@ymail.com', 'melisathrone834@gmail.com', 'melissa.stancato@gmail.com', 'melissalauren412@gmail.com', 'melissalpfeffer@gmail.com', 'melissaskitchenshop@gmail.com', 'melissey@gmail.con', 'melsheridan2@gmail.com', 'melyssaam@gmail.com', 'mercymicheal699@gmail.com', 'meredith.fuehrer@gmail.com', 'mernae3181@gmail.com', 'mernaestfanous@gmail.com', 'merylpberger@gmail.com', 'metaluxltd@gmail.com', 'meyersjonathan164@gmail.com', 'mf077xlo@duck.com', 'mfalcone723@gmail.com', 'mff2137@columbia.edu', 'mfmodel@yahoo.com', 'mfreiberg34@gmail.com', 'mgayden@uccs.edu', 'mgf0691@yahoo.com', 'mggold610@gmail.com', 'mgolemme@gmail.com', 'mgrant6776@gmail.com', 'mgundilovich@yahoo.com', 'mhardin@protonmail.com', 'mhchealojediran@gmail.com', 'mhfats@yahoo.com', 'mhmdrahouma@gmail.com', 'micagge7300575@gmail.com', 'michael.hologitas@gmail.com', 'michael.manning5@comcast.net', 'michael.schilling062@gmail.com', 'michael_rodriguez18@outlook.com', 'michael_saponara@yahoo.com', 'michaelaquaresimo@gmail.com', 'michaelaustin36539@gmail.com', 'michaelchurchmiko@gmail.com', 'michaelcoombe4@gmail.com', 'michaeldaniel5551@outlook.com', 'michaeldresser@gmail.com', 'michaelgate98@gmail.com', 'michaeljones2024@outlook.com', 'michaelking4355@gmail.com', 'michaelmatthews468@gmail.com', 'michaelsmith160198@gmail.com', 'michallawson98@gmail.com', 'michaok@optonline.net', 'micheallukas08@gmail.com', 'michealmoon6696@gmail.com', 'micheleketchum1@gmail.com', 'michelle.reinfurt@gmail.com', 'michelle.rupert18@yahoo.com', 'michelle.y.reims@gmail.com', 'mickeyjude345@outlook.com', 'midellawale@gmail.com', 'miguelhinds17@gmail.com', 'mike244625@gmail.com', 'mikeahanson003@gmail.com', 'mikeakley@yahoo.com', 'mikeavicson4@gmail.com', 'mikebammy069@gmail.com', 'mikedmah@gmail.com', 'mikedowd@optonline.net', 'mikeekeelly05@gmail.com', 'mikeisreal410@gmail.com', 'mikestuy@gmail.com', 'miketerranova42@gmail.com', 'mikolelehua@hotmail.com', 'miladygigi@aol.com', 'milagros_2306@hotmail.com', 'milakelm@gmail.com', 'mina18avil@gmail.com', 'minghua.zhang2@yahoo.com', 'missjackie@hotmail.com', 'missymaow@gmail.com', 'mitchell.kopacz@gmail.com', 'mizzojb248@gmail.com', 'mjhdelia@gmail.com', 'mkmelgar@gmail.com', 'mkoutwin@hotmail.com', 'mkyle0755@gmail.com', 'mlambrukos@gmail.com', 'mld11576@yahoo.com', 'mlinden@gmail.com', 'mm246moore@aol.com', 'mmirabella@aol.com', 'mmlm99@icloud.com', 'mmoniz6684@gmail.com', 'mmoore81oak@gmail.com', 'mnrastogi@yahoo.com', 'mnyk030@gmail.com', 'mo.vato.arriba@gmail.com', 'mobingpet@sika3.com', 'moegamer181@gmail.com', 'mohammedmustaquim181@gmail.com', 'mohammedyembo130@gmail.com', 'mokarramhossain911@gmail.com', 'molinayard610@gmail.com', 'mollvictoria75@gmail.com', 'mollyjohns@gmail.com', 'mollyknoblock@gmail.com', 'mollyknowland@gmail.com', 'mollynunes@yahoo.com', 'moloch31883@gmail.com', 'mommyslogan@gmail.com', 'momsgt@aol.com', 'momtakat13@gmail.com', 'monasiaagibbs96@icloud.com', 'monetmlyons@gmail.com', 'monowarmollah@yahoo.com', 'monsel2@hotmail.com', 'morgan.jelling@gmail.com', 'morgan_h_wood@yahoo.com', 'morganlisa8676@gmail.com', 'movaughan2003@gmail.com', 'movaughan2003@yahoo.com', 'mperri03@hotmail.com', 'mppgordon@gmail.com', 'mr.cotter@hotmail.com', 'mri724@aol.com', 'mrscolleeno@yahoo.com', 'mrtimbabs@gmail.com', 'mscanlon1012@gmail.com', 'msfinatl@gmail.com', 'mskat79@msn.com', 'msm1160@aol.com', 'msmith.ssc@gmail.com', 'mstreng467@aol.com', 'mtessier2010@gmail.com', 'mtu8276525@aol.com', 'mtwknowles@yahoo.com', 'mtzimmerman@verizon.net', 'munazaafzal@yahoo.com', 'murphyelizabeth1008@gmail.com', 'murphygrayy@gmail.com', 'murrayted219@gmail.com', 'mvppt@yahoo.com', 'mvvlupi@gmail.com', 'mw.711@hotmail.com', 'mwcoletta125@gmail.com', 'mwong012345@gmail.com', 'mybbbcoup@gmail.com', 'mydaughtereyes@gmail.com', 'n.kalinowski817@gmail.com', 'n8tivenyr420@aol.com', 'nabidulhaque21@gmail.com', 'nadeauholly@yahoo.com', 'nadia85eli@icloud.com', 'nalmakay@hotmail.com', 'nancy.stuart4@gmail.com', 'nancygee66@gmail.com', 'nancymcd1124@hmail.com', 'nancysschool@gmail.com', 'nanjeanett@aol.com', 'nannotshan@yahoo.com', 'nartie@aol.com', 'nasim8215@outlook.com', 'natalia11691@gmail.com', 'nathanbeaumont.617@gmail.com', 'natyavalos.2014@gmail.com', 'natymazvi@gmail.com', 'nbenevenia@gmail.com', 'nbinnyc@aol.com', 'nbwhaler12@gmail.com', 'ncampbell930@gmail.com', 'ncharlest@gmail.com', 'ncpic519@gmail.com', 'nebriggs@gmail.com', 'nedandlaura@comcast.net', 'neftalycastillo07@gmail.com', 'neilbergeron1992@gmail.com', 'neilbergeron@icloud.com', 'neilnp@gmail.com', 'nelsonjacob539@gmail.com', 'nevrikos@gmail.com', 'newfelicity654@gmail.com', 'newgamer2011@gmail.com', 'newsomehalfacre@gmail.com', 'nhlami@gmail.com', 'nicasirena1@gmail.com', 'nicholasabbey016@gmail.com', 'nicholelopez2004@icloud.com', 'nick.kamenoff@yahoo.com', 'nickbwork02@gmail.com', 'nickpfeifer5518@gmail.com', 'nickrosero1@gmail.com', 'nicky172300@gmail.com', 'nico22199@gmail.com', 'nicolaswerner@outlook.com', 'nicole.russell@fmr.com', 'nicoleroy767@gmail.com', 'nicoleskyepaterson@gmail.com', 'nicolesteenburghschmidt@gmail.com', 'nigelwashington904@gmail.com', 'nikkikingnyc@gmail.com', 'ninaaleonhardt@gmail.com', 'ninchick@gmail.com', 'nino101395@aol.com', 'nino101395@gmail.com', 'nisha_v_krishnan@yahoo.com', 'nj_alves@comcast.net', 'nlarguinha@gmail.com', 'nle2113@columbia.edu', 'nlhookway@gmail.com', 'nmrhsjrotc@gmail.com', 'noahbwilliams@gmail.com', 'noahzinn123@gmail.com', 'normaalvi73@gmail.com', 'norosci5@gmail.com', 'nosie.rosie75@gmail.com', 'nosterweil@osterweilbaron.com', 'npansullo@hotmail.com', 'npiazza3@gmail.com', 'nplamano06@gmail.com', 'nrazz130@gmail.com', 'nsalleyne@gmail.com', 'nudelman.eric@gmail.com', 'nuelfig11@gmail.com', 'nunes@efnarchitects.com', 'nurit375@gmail.com', 'nursiegina@gmail.com', 'nyczfunnykid7189@yahoo.com', 'nylovesme2@gmail.com', 'nyt609@gmail.com', 'o2b1@aol.com', 'o91548777@gmail.com', 'obrienjohnw@gmail.com', 'oconnellws@comcast.net', 'octayvioussayon@gmail.com', 'oj90205@gmail.com', 'ojehassi@yahoo.com', 'ojochide52@gmail.com', 'okmilitaryhq@gmail.com', 'oladimejiidowu25@gmail.com', 'olanipekunfavour972@gmail.com', 'olen.helgesen@gmail.com', 'olivia.cothren@gmail.com', 'oliviamichealolivia@gmail.com', 'oliviasands1218@gmail.com', 'ololadedavidaworinde@gmail.com', 'omhanda9@gmail.com', 'oreillyatnight@aol.com', 'orlando23cmal@outlook.com', 'orsngwtsugbs@proton.me', 'osomb07@gmail.com', 'otistomneer@gmail.com', 'owenleo33@outlook.com', 'oyestopy@gmail.con', 'oyetokuntaiwo4@gmail.com', 'pablo.windhausen@gmail.com', 'paigegunther@gmail.com', 'paikseungmin@gmail.com', 'paisleypie97@yahoo.com', 'pamilerindeborah764@gmail.com', 'panamaica@icloud.com', 'pandersonmom@yahoo.com', 'panniareeba@gmail.com', 'panthernation502@gmail.com', 'paprika226@yahoo.com', 'parsons.jana@gmail.com', 'pascalsmith312@gmail.com', 'pascalwright7@gmail.com', 'patchbradley@gmail.com', 'pathsu@hotmail.com', 'patman1162@gmail.com', 'patricet@comcast.net', 'patrick.kaileigh.oneill@gmail.com', 'patrickmarra473@gmail.com', 'pattonm08@gmail.com', 'patty.dowden@gmail.com', 'paul.a.bowen@gmail.com', 'paul.r.dempsey@gmail.com', 'paulaperry607@gmail.com', 'paulinhodave08@gmail.com', 'paulmlevesque81@gmail.com', 'paulroberts1210@gmail.com', 'paulstolz26@gmail.com', 'pawlakmarkr@gmail.com', 'paytonst@yahoo.com', 'pbonadonna@aol.com', 'pbosch1945@icloud.com', 'pbulens88@gmail.com', 'pburkesanchez@gmail.com', 'pcbraju@gmail.com', 'pctrey@gmail.com', 'pdawn986@gmail.com', 'pdd1968@gmail.com', 'pdrose1956@gmail.com', 'peachy@howe.net', 'pearljeank@gmail.com', 'pearlstacy0@gmail.com', 'pedroerise@outlook.com', 'penelopeflemin@gmail.com', 'peneloperileydcs@gmail.com', 'perepis@gmail.com', 'perezjames0045@gmail.com', 'perichi22@yahoo.com', 'pete42@optonline.net', 'peter.cipriani@gmail.com', 'peter.hou8888@gmail.com', 'peterfoster83@gmail.com', 'petermichael2442@gmail.com', 'petersonsam078@gmail.com', 'petmar@gmail.com', 'philiplee1013@gmail.com', 'philipma6@gmail.com', 'phillipcolantti@gmail.com', 'philshap@gmail.com', 'phm52@yahoo.com', 'pilipovicmills@gmail.com', 'pilkington.jessica@gmail.com', 'pinkahand@yahoo.com', 'pjfr@aol.com', 'pjlord@yahoo.com', 'pkim101@gmail.com', 'pkoochik@gmail.com', 'plibox@gmail.com', 'pmahabali@gmail.com', 'pmbaseball@optonline.net', 'poliakov.sergei.us@gmail.com', 'poohacl@aol.com', 'pooranibio@gmail.com', 'porschebuss@gmail.com', 'ppaniccia77@gmail.com', 'ppatsy@optonline.net', 'ppeditto@gmail.com', 'ppicascio@gmail.com', 'ppoiu3629@gmail.com', 'ppower@comcast.net', 'ppr10222005@gmail.com', 'pradhyumnarao@gmail.com', 'praisogwu2002@gmail.com', 'premiumindoan@gmail.com', 'prestontommy@gmail.com', 'preudhommeee@gmaiil.com', 'prima_donna21hotmail.com', 'princetonsam39@gmail.com', 'priyankur@yahoo.com', 'profajarx@gmail.com', 'prpub@earthlink.net', 'pt.js@roadrunner.com', 'ptanes2112@gmail.com', 'pub2er@yahoo.com', 'puremoods6@gmail.com', 'pylantl@gmail.com', 'q.anniehussain@gmail.com', 'qt.selfieproject2113@gmail.com', 'qt.selfieproject2270@gmail.com', 'queen.serenity87@gmail.com', 'queens529@aol.com', 'rachel.sperando@gmail.com', 'rachelamgbenz@gmail.com', 'rachelarkus@gmail.com', 'rachellaura023@gmail.com', 'rachellaura2023@gmail.com', 'rachelsantiano@gmail.com', 'raelynne@gmail.com', 'raenahkelly@gmail.com', 'rafattabuk@yahoo.com', 'rafeletan@outlook.com', 'rafi.reiss@gmail.com', 'rain101cloud@yahoo.com', 'ramanpreettsinghh17@gmail.com', 'rameshjebode15@gmail.com', 'ramirezri228@gmail.com', 'ramishshiwlall@gmail.com', 'ramseyismael54@gmail.com', 'rania86@gmail.com', 'ranne400@optonline.net', 'rariana1997@gmail.com', 'rasheedafeez468@gmail.com', 'raymond.j.bennett@gmail.com', 'raymondelliot222@gmail.com', 'rcfein@optonline.net', 'rchristen@student.bridgew.edu', 'realakanbi9@gmail.com', 'realmiko7@gmail.com', 'rebeccafholloway@gmail.com', 'rebeccajhoff@gmail.com', 'rebeccamalley@gmail.com', 'reebelden@gmail.com', 'reesehardy4@gmail.com', 'reginadaniel4445@gmail.com', 'regojordan@gmail.com', 'relexboy377@gmail.com', 'remoses91@gmail.com', 'reneefpet@yahoo.com', 'renjunlu@link.cuhk.edu.cn', 'replacementcars@aol.com', 'resq515@optonline.net', 'resqubklyn@yahoo.com', 'reymartin@yahoo.com', 'rflrjr@gmail.com', 'rgen36@aol.com', 'rhadiga5@msu.edu', 'rhondakilpatrick1@gmail.com', 'rhymz2000@yahoo.com', 'riad602@gmail.com', 'ric.asaurus@gmail.com', 'richard.helling@gmail.com', 'richardborges52365@icloud.com', 'richardchar145@gmail.com', 'richardschindler24@yahoo.com', 'richardwillis1122@gmail.com', 'richcath@gmail.com', 'richsgcny@gmail.com', 'rickgabriel@msn.com', 'rickymilk@hotmail.com', 'rileyben165@gmail.com', 'riz1002@gmail.com', 'rkpeterson1028@gmail.com', 'rlaurencelle2@verizon.net', 'rlung28@yahoo.com', 'rm3106@nyu.edu', 'rmagnus711@aol.com', 'rmflaherty115@gmail.com', 'rmyhr@mac.com', 'rnprowler@gmail.com', 'rob.geisel@gmail.com', 'robert.sheldon93@gmail.com', 'robertfultz057@gmail.com', 'robertgullery96@gmail.com', 'robertsnyder3@msn.com', 'robn72@hotmail.com', 'rochellyf1@gmail.com', 'rodetoad13@aol.com', 'rogeriagamavtt@hotmail.com', 'rogerwilliamson52@gmail.com', 'rojo43@verizon.net', 'romeromoemroer@proton.me', 'romeronayeli414@gmail.com', 'ronaldroon1111@gmail.com', 'rondoinfluencer@gmail.com', 'ronkraus@yahoo.com', 'ronlirio@yahoo.com', 'roomen_cam@hotmail.com', 'rosa.hammer@hotmail.com', 'rosantygarcia@gmail.com', 'rosaortez@gmail.com', 'roseduclos08@gmail.com', 'rosemark19977@gmail.com', 'rosenkranzc@gmail.com', 'rowaters374@gmail.com', 'royalchris17@gmail.com', 'royalmcqueen@gmail.com', 'roylau8804@gmail.com', 'rpdorney50@gmail.com', 'rrr732359@gmail.com', 'rsheila45@gmail.com', 'rsmarcus@verizon.net', 'rsmith718@comcast.net', 'rsteven1@optonline.net', 'rsull0830@gmail.com', 'rudi@weidfamily.com', 'rudymserrano@outlook.com', 'rufusmay6@gmail.com', 'russogn@yahoo.com', 'ruthaklein77@gmail.com', 'rutroh11@gmail.com', 'ryan.griffiths39@gmail.com', 'ryanatlas6310@gmail.com', 'ryanbutbetter@gmail.com', 'ryancheung0223@gmail.com', 'ryansevery@gmail.com', 's.e.colgan@gmail.com', 's64674419@gmail.com', 's_hershon@hotmail.com', 'saasadiq@yahoo.com', 'sabrina.marasia@gmail.com', 'saddyfwesh@gmail.com', 'sadenzel@gmail.com', 'sadmanbinzaman@gmail.com', 'sadyidogi@gmail.com', 'saferakas@gmail.com', 'sainhk@gmail.com', 'saintdavis970@gmail.com', 'saitamagoku540@gmail.com', 'salete.fercosta@gmail.com', 'saliudauda212@gmail.com', 'salmanahba@outlook.com', 'sam.brownell@wholefoods.com', 'sam.zilic@yahoo.com', 'samantha.hauserman@gmail.com', 'samantha.ruggiero14@gmail.com', 'samantha.wright.webber@gmail.com', 'samanthabgutz@yahoo.com', 'samanthasmith1931@outlook.com', 'samcouture726@gmail.com', 'sami.ginsberg@gmail.com', 'samirrhanna@gmail.com', 'sammirbelfodil2@gmail.com', 'sammyshokzman69@gmail.com', 'samnik9597@aol.com', 'sampropis@gmail.com', 'samsonadewumi17@gmail.com', 'samsongrayy@outlook.com', 'samuelmustaphq@gmail.com', 'sanabriaaaa@proton.me', 'sandeebeech@gmail.com', 'sandra.amaya1015@gmail.com', 'sandyelcantante@gmail.com', 'sandykj31@outliok.com', 'sansom.will@gmail.com', 'santoro.rich@gmail.com', 'santoshkumarrao@gmail.com', 'sanusihassan097@gmail.com', 'sara.mcniff@gmail.com', 'sarah.eltingesee@gmail.com', 'sarah.turrell70@gmail.com', 'sarahbanks4085@gmail.com', 'sarahbradyvoll@gmail.com', 'sarahecurtin@gmail.com', 'sarahf18b@yahoo.com', 'sarahleone444@gmail.com', 'sarahmdentre@gmail.com', 'sarasimmons598@gmail.com', 'sashapeck@outlook.com', 'sashouwing@gmail.com', 'satschinow@gmail.com', 'savannahvelezox13@gmail.com', 'savvyjack03@gmail.com', 'sboug@apl.com', 'sbrooks473@gmail.com', 'scama134@gmail.com', 'scanlon.tp@gmail.com', 'scapone720@gmail.com', 'schagant@hotmail.com', 'schneeweis.j@husky.neu.edu', 'schneeweis.j@northeastern.edu', 'schultz.robert@gmail.com', 'schwamava@gmail.com', 'sclny1@gmail.com', 'scottbelfield@optonline.net', 'scottjorr@gmail.com', 'scottp@junk-king.com', 'scottsam648@gmail.com', 'scubiemo@gmail.com', 'scvista82@aol.com', 'sdenadal45@gmail.com', 'sdgrohs23@gmail.com', 'sdteetrlingzqtrw1345@gmail.com', 'seacilian@verizon.net', 'seanembree18@gmail.com', 'seanuno@gmail.com', 'sebastainjack18@outlook.com', 'sebataitnas293864@tutamail.com', 'sedrakkhairy@gmail.com', 'seideljoseph10@gmail.com', 'semenzer@gmail.com', 'sergeybs@yahoo.com', 'serinahn0430', 'sestes730@gmail.com', 'seth.kornetsky@tufts.edu', 'seymasever98@gmail.com', 'sfeleja@gmail.con', 'sfrees45@gmail.com', 'sgaluppo15@gmail.com', 'shabanian.hanieh@gmail.com', 'shal61308na@gmail.com', 'shanacrss77@yahoo.com', 'shannonavon@yahoo.com', 'shannonlslto@gmail.com', 'shannonmitchell2017@gmail.com', 'sharath777@msn.com', 'sharonhandmodel@gmail.com', 'shaunkelly984@gmail.com', 'shawjanine638@gmail.com', 'sheen1426@yahoo.com', 'sheffern61590@gmail.com', 'shelbyec1@yahoo.com', 'shellyandtami@yahoo.com', 'sheri.rb11@gmail.com', 'sheridan585@gmail.com', 'sherifftaylor4@gmail.com', 'shibakhalid980@gmail.com', 'shields3@optonline.net', 'shinlucky456@gmail.com', 'shirley.geick@gmail.com', 'shirleyfajardo7@gmail.com', 'shirlsanchez@rcn.com', 'shiva.keshavan@gmail.com', 'shopperbro72@gmail.com', 'shoptyee@gmail.com', 'shr_nyc@yahoo.com', 'shreyasi.mukherjee@live.com', 'sibrahimjg@gmail.com', 'sicky62@yahoo.com', 'sidcohen721@gmail.com', 'sierrahmail@gmail.com', 'sierranavas10@gmail.com', 'siftonclaire@gmail.com', 'signkarl1@msn.com', 'silke.forbes@gmail.com', 'simonreeds1006@gmail.com', 'singeeankim@gmail.com', 'sippel@simmons.edu', 'sjgilmore28@gmail.com', 'sjk.1231@outlook.com', 'sjthornquest@gmail.com', 'skh83@cornell.edu', 'skillful3015@gmail.com', 'skiperous@yahoo.com', 'sksiena@aol.com', 'slaffan1982@gmail.com', 'slandaska@hotmail.com', 'slapshot108@icloud.com', 'sluo3@bostonk12.org', 'sluo7307@gmail.com', 'smartchristopher294@gmail.com', 'smcmordie@gmail.com', 'smdiersch@gmail.com', 'smgianetti@verizon.net', 'smhagan@bu.edu', 'smithann2102@gmail.com', 'smithbenedicta726@gmail.com', 'smithjaden2024@outlook.com', 'smithjonson412@gmail.com', 'smithkent412@gmail.com', 'smiths-03sprawls@icloud.com', 'smmutchell8681@gmail.com', 'snaser13@icloud.com', 'snlsc@yahoo.com', 'snydersherry@gmail.com', 'sofiasofia51@gmail.com', 'sofiekoonce@gmail.com', 'sonageorge84@gmail.com', 'sophcrandall05@gmail.com', 'sorpresamaria@proton.me', 'soumyanegi@gmail.com', 'speedyracerx@me.com', 'sprees_inn.0v@icloud.com', 'sqlizard3@aol.com', 'srachlin8@gmail.com', 'srask6@gmail.com', 'srmatt@optonline.net', 'sshap419@gmail.com', 'sshorty0122@gmail.com', 'ssonthebay@yahoo.com', 'sstephen@wesleyan.edu', 'stacey.failla@yahoo.com', 'stacygal@optonline.net', 'stacylangmore6@gmail.com', 'staliz@optimum.net', 'stanleymiles426@gmail.com', 'statushoyer@gmail.com', 'stellabellap@rcn.com', 'steph_eng5@yahoo.com', 'stephanie.rost@gmail.com', 'stephanie.rotondo47@gmail.com', 'stephanieabstract@yahoo.com', 'stephaniecowelle124@gmail.com', 'stephaniekirby333@gmail.com', 'stephen.balkam@gmail.com', 'stephen.neshe@gmail.com', 'stephen.quiery@gmail.com', 'stephendavid9977@gmail.com', 'stephenjack010@outlook.com', 'stephenjuan499@gmail.com', 'stephenspicer820@gmail.com', 'stephexoxo@gmail.com', 'stephtzul1@gmail.com', 'steve.desandis@gmail.com', 'steve.safranek@yahoo.com', 'stevenanderson.nyc@gmail.com', 'stevenandterryray@gmail.com', 'stevenharry277@gmail.com', 'stevenscheibe109@gmail.com', 'stevenvines62@gmail.com', 'stevenvivian35@outlook.com', 'stevepedro@rcn.com', 'stevewalker1605@gmail.com', 'stevewoolf528@gmail.com', 'sthashah@icloud.com', 'stiltarget@aol.com', 'stomulcer@aol.com', 'stoneru23@gmail.com', 'stonevera495@gmail.com', 'stully1025@gmail.com', 'stylesj130@gmail.com', 'suebacher1@gmail.com', 'sueshedd@yahoo.com', 'sueyanovitch@gmail.com', 'sufeai@yahoo.com', 'sujatha.thyagarajan@gmail.com', 'sukesha23@gmail.com', 'sunlinejenn@aol.com', 'susanblakes71@gmail.com', 'susanlaura901@gmail.com', 'susanwilson74104@gmail.com', 'susanwleff@gmail.com', 'susiemay6@yahoo.com', 'suz.goldberg@gmail.com', 'suzanne@smrozak.com', 'suzkidodo@gmail.com', 'svoss1978@gmail.com', 'swanmahony@yahoo.com', 'swbcrowther@gmail.com', 'sweetpea123450@gmail.com', 'syay36@gmail.com', 'syaye36@gmail.com', 'sydkneee3@gmail.com', 'sydney', 'sydneyjobson@gmail.com', 'sydneylam472@gmail.com', 'sydneymhaas@gmail.com', 'sydneypagan25@gmail.com', 'syiu100@gmail.com', 'sylentdarkness@yahoo.com', 'sylvesterjames469@gmail.com', 'syznes@gmail.com', 'szalmander@gmail.com', 'tac623@icloud.com', 'tailie08@aol.com', 'taishabenjaminmd@yahoo.com', 'taixishi@yahoo.com', 'talitahellue@hotmail.com', 'tammypinheirobobo@gmail.com', 'taniellajo@gmail.com', 'tanpeck27@gmail.com', 'tanyamoeba@hotmail.com', 'tarabrundidge@gmail.com', 'tarall4@live.com', 'tarasiukewa@yahoo.com', 'tartchevy4@gmail.com', 'tashadavies0147@gmail.com', 'tastetherain@gmail.com', 'tatdracula@gmail.com', 'tayla.marie.plett@gmail.com', 'taylorbeauvais@gmail.com', 'taylorbree123@gmail.com', 'taylorkenny0202@gmail.com', 'taylorpreston0814@gmail.com', 'tbell18@charter.net', 'tchadd.hanna@gmail.com', 'tdc048@optonline.net', 'tdilan@gmail.com', 'teachfran@aol.com', 'ted.fackelman@verizon.net', 'tejalsamsundar@gmail.com', 'terrymakinson6@gmail.com', 'terryvillarreal115@gmail.com', 'tesleywills@gmail.com', 'teverardo37@gmail.com', 'tfdoherty123@gmail.com', 'tfischer620@gmail.com', 'tfoster52698@gmail.com', 'tfrank710@gmail.com', 'thankgodpraise02@gmail.com', 'theasvabtutor@gmail.com', 'thebenitts@gmail.com', 'theogoldd@gmail.com', 'thepaulagomez206@gmail.com', 'thisisonlyforjunk@yahoo.com', 'thomas.babcock@gmail.com', 'thomasbrown2709@gmail.com', 'thomasflynn918@gmail.com', 'thomasjohnson5534@gmail.com', 'thomaskramer0180@gmail.com', 'thomasryan@optonline.met', 'thomjeff5343@gmail.com', 'thorsen@mit.edu', 'thursdayking@gmail.com', 'thy41188@gmail.com', 'ticketman207@gmail.com', 'tiffany.garner@gmail.com', 'tim.r.dagostino@gmail.com', 'timhrider@gmail.com', 'timmjp@yahoo.com', 'timomara11596@yahoo.com', 'titifrozenfood@gmail.com', 'tj.r@outlook.com', 'tjanqi@gmail.com', 'tjayne346@yahoo.com', 'tjblinn@gmail.com', 'tkearin528@gmail.com', 'tlabbate@equalfirstaid.com', 'tmsgt1@gmail.com', 'tobe5252@yahoo.com', 'toddm.cculloch0147@gmail.com', 'tokko72169@gmail.com', 'tolulopehassan2@gmail.com', 'tom0153@hotmail.com', 'tomlee20100@gmail.com', 'tommaj@optonline.net', 'tonizam1955@icloud.com', 'tonya33069@gmail.com', 'tooneella208@gmail.com', 'toooointense@yahoo.com', 'townsendjudi@gmmail.com', 'toyotatm@optonline.net', 'tpamm@conncoll.edi', 'tquashie.tes@gmail.com', 'tracylr999@hotmail.com', 'travis.t.mitchell@gmail.com', 'trekkie04@me.com', 'trippytuesdaysradio@gmail.com', 'trophylisa@gmail.com', 'trucker65786@comcast.net', 'trucksgt@gmail.com', 'tsjenkins28@gmail.com', 'tsmith42@u.rochester.edu', 'tthiagossantino@gmail.com', 'ttimtwlsn@gmail.com', 'twint1savage@gmail.com', 'tworley22@gmail.com', 'tx.mnichols@gmail.com', 'tyesshab24@gmail.com', 'tylerjake584@gmail.com', 'tyrellmclune2016@gmail.com', 'tyty12456@gmail.com', 'urmi7100@gmail.com', 'uspsmomma@yahoo.com', 'uzkez87@gmail.com', 'vadfrid@yahoo.com', 'vagabondgrrl@gmail.com', 'vagabondgrrl@gmail@com', 'valerieharrison824@yahoo.com', 'vanessabell2012@comcast.net', 'vargasmariana21@icloud.com', 'varunallam@gmail.com', 'vcbunce@gmail.com', 'vdaquila1@gmail.com', 'vee1701@msn.com', 'veebee5682@gmail.com', 'vegbaby@hotmail.com', 'vespula@charter.net', 'vickivic142@gmail.com', 'vicksplace241@yahoo.com', 'victorfrost114@gmail.com', 'victoriac.jones93@gmail.com', 'vidurkmalhotra@gmail.com', 'viking72@verizon.net', 'vikingrdh@verizon.net', 'vilc1@yahoo.com.br', 'vincentwoolford191@gmail.com', 'virgo09191977@gmail.com', 'vishruta.parikh@gmail.com', 'vivian081809@gmail.com', 'vivian_chenyj@yahoo.com', 'vixo.bd.pf.10@gmail.com', 'vknarang@gmail.com', 'vkpower02@gmail.com', 'vladfive2001@yahoo.com', 'vroccanova@verizon.net', 'vsbpc202@gmail.com', 'wag13@optonline.net', 'wahlwork@yahoo.com', 'walinskihaley@gmail.com', 'waltersweeneyjr@gmail.com', 'wampum50@yahoo.com', 'wandmpc@msn.com', 'wangemilyw@gmail.com', 'wangr2020@gmail.com', 'wardjoseph131@gmail.com', 'waynetones106@gmail.com', 'wchihsin@gmail.com', 'wcp224@nyu.edu', 'wdarrigo@gmail.com', 'wefjr1948@gmail.com', 'wegman77@hotmail.com', 'weinrobej@gmail.com', 'weiseongtan88@hotmail.com', 'weixf27@gmail.com', 'wendy@obtuse-ny.com', 'wendychen267@gmail.com', 'wendyrio@aol.com', 'westseth20@gmail.com', 'wf2317@columbia.edu', 'wfowler880@gmail.com', 'wheathollow@gmail.com', 'whiteholland15@gmail.com', 'whitrob88@gmail.com', 'wilcallum2020@gmail.com', 'wildspirit673@gmail.com', 'wilfredjames515@gmail.com', 'will.wong781@gmail.com', 'williambrown0400@gmail.com', 'williamfloyd498@gmail.com', 'williamhwast@gmail.com', 'williamrosemond377@gmail.com', 'williamsmasonscott3@gmail.com', 'williamsrobinson1209@gmail.com', 'williamstesla64@gmail.com', 'willsbrianna400@gmail.com', 'willsmith05111968@icloud.com', 'willychris456@gmail.com', 'wilshererobin2@gmail.com', 'wilsonj384@gmail.com', 'wilsonsamueli334@gmail.com', 'wilsonshawn5188@gmail.com', 'win16nie@yahoo.com', 'winona430@gmail.com', 'wisestrife@yahoo.com', 'wizardhere@gmail.com', 'wjd@williamdoylelaw.com', 'wmassingham@gmail.com', 'wmcdaris@outlook.com', 'wmoustakas@msn.com', 'wolfeadaniel@gmail.com', 'wonglco@gmail.com', 'woolfies@msn.com', 'worldsbestteach@aol.com', 'wr757552@gmail.com', 'wsdagle@msn.com', 'xal8@msn.com', 'xawj2017@gmail.com', 'xhl763@gmail.com', 'xichen.nmr@gmail.com', 'xin232300@gmail.com', 'xiomara.i.ortiz@gmail.com', 'xivpulse@gmail.com', 'xlmc@nyc.rr.com', 'xr705@hotmail.com', 'xxdosnombresxx@yahoo.com', 'xxmarylxx@yahoo.com', 'yadirapalacios06@gmail.com', 'yakov11@hotmail.com', 'yamalemir@outlook.com', 'yankeechic21@aol.com', 'yankessace@yahoo.com', 'yannipo@gmail.com', 'yasseenramadan6@gmail.com', 'yassereco@yahoo.com', 'yassinnou102@gmail.com', 'yatingch99@hotmail.com', 'ybmnyc@yahoo.com', 'yelefit@gmail.com', 'yenalesic1230@gmail.com', 'yeonjipak@hey.com', 'yifeng0130@gmail.com', 'yijiali.pumc@gmail.com', 'yipyip111@aol.com', 'yn2461@columbia.edu', 'yowana.d@gmail.com', 'yuantian0811@aol.com', 'yukakadota@gmail.com', 'yvettecarroll@yahoo.com', 'zacclemens.a@gmail.com', 'zachary.taschman@gmail.com', 'zacharyholden@optonline.net', 'zachreiner@gmail.com', 'zayneperry67@outlook.com', 'zebo12345@comcast.net', 'zeeboreid+tick@gmail.com', 'zeesad223@gmail.com', 'zemo@optonline.net', 'zen69@comcast.net', 'zhang-yongshan@hotmail.com', 'zhangmik@gmail.com', 'zigmundites@gmail.com', 'zikogamerdz0707@gmail.com', 'zoomjv101169@yahoo.com', 'zubisolomon@outlook.com']\n"
          ]
        }
      ]
    },
    {
      "cell_type": "code",
      "source": [
        "df_email.rename(columns={'Email': 'email'}, inplace=True)\n",
        "df_users.rename(columns={'username': 'email'}, inplace=True)\n",
        "\n",
        "df_email['email'] = df_email['email'].str.lower()\n",
        "df_users['email'] = df_users['email'].str.lower()"
      ],
      "metadata": {
        "id": "sGM-6Mh-n5NE"
      },
      "execution_count": 7,
      "outputs": []
    },
    {
      "cell_type": "code",
      "source": [
        "df_email_filtered = df_email[df_email['email'].isin(common_emails)]\n",
        "df_users_filtered = df_users[df_users['email'].isin(common_emails)]\n",
        "\n",
        "merged_df = pd.merge(df_email_filtered, df_users_filtered, on='email', how='inner')\n",
        "\n",
        "print(\"merged table:\")\n",
        "print(merged_df.head())"
      ],
      "metadata": {
        "colab": {
          "base_uri": "https://localhost:8080/"
        },
        "id": "BuQddM0Yl8h5",
        "outputId": "4c5ccb33-9549-4063-9ed8-2bb7e3b970e6"
      },
      "execution_count": 8,
      "outputs": [
        {
          "output_type": "stream",
          "name": "stdout",
          "text": [
            "merged table:\n",
            "                          email     State  CUTICK  Columbia  invitation  \\\n",
            "0  01-girders.infill@icloud.com  New York  CUTICK       1.0           1   \n",
            "1          01johnpete@gmail.com  New York  CUTICK       1.0           1   \n",
            "2            03toheeb@gmail.com  New York  CUTICK       1.0           1   \n",
            "3              130365@gmail.com   Florida     NaN       0.0           1   \n",
            "4            13plazal@gmail.com  New York  CUTICK       1.0           1   \n",
            "\n",
            "         Giftcard sent  DL  points total_days_readable county_name  ...  \\\n",
            "0  ask to activate GPS   8     NaN                 NaN         NaN  ...   \n",
            "1                    N   9     2.0              0 days         NaN  ...   \n",
            "2                  NaN   0     NaN                 NaN         NaN  ...   \n",
            "3                  NaN   0     NaN                 NaN         NaN  ...   \n",
            "4                    Y   2     NaN                 NaN         NaN  ...   \n",
            "\n",
            "  centroid_longitude            location_centroid  comments  \\\n",
            "0                NaN                          NaN       NaN   \n",
            "1           6.235075  Okene 264103, Kogi, Nigeria       NaN   \n",
            "2                NaN                          NaN       NaN   \n",
            "3                NaN                          NaN       NaN   \n",
            "4                NaN                          NaN       NaN   \n",
            "\n",
            "                                user_id user_state  user_study_arm  \\\n",
            "0  dc762d37-6a1d-2111-3795-bd1149ae9c81   New York       treatment   \n",
            "1  570444d9-adc2-3e5e-4adc-5479cf10c582   New York       treatment   \n",
            "2  66867556-b8a0-0d86-912a-fc3a60b2a292   New York         control   \n",
            "3  ca5d4e65-264b-ab8b-207f-24ca9bcb9e06    Florida         control   \n",
            "4  e7a5f366-699c-0753-f8dd-39815eb0597c   New York       treatment   \n",
            "\n",
            "  user_language baseline_complete        most_recent_activity  \\\n",
            "0         en-us              True  2024-08-10 05:44:20.347000   \n",
            "1         en-us              True  2024-07-10 05:40:31.795000   \n",
            "2         en-us              True  2024-08-05 19:10:26.029000   \n",
            "3         es-us              True  2024-06-16 21:39:05.953000   \n",
            "4         en-us              True  2024-06-14 15:04:08.707000   \n",
            "\n",
            "                                    last_device_used  \n",
            "0  The Tick App/5.0.1 (iPhone; iOS 17.6.1; Scale/...  \n",
            "1  Dalvik/2.1.0 (Linux; U; Android 9; SM-N9500 Bu...  \n",
            "2  Mozilla/5.0 (Linux; Android 13; SM-G986U1 Buil...  \n",
            "3  The Tick App/5.0.0 (iPhone; iOS 17.1.2; Scale/...  \n",
            "4  Mozilla/5.0 (Macintosh; Intel Mac OS X 10_15_7...  \n",
            "\n",
            "[5 rows x 23 columns]\n"
          ]
        }
      ]
    },
    {
      "cell_type": "code",
      "source": [
        "merged_df.to_csv('/content/drive/MyDrive/CU E3B lab/Tick app/merged_output.csv', index=False)"
      ],
      "metadata": {
        "id": "BG-2eA25myQE"
      },
      "execution_count": 9,
      "outputs": []
    },
    {
      "cell_type": "markdown",
      "source": [
        "## Some initial analysis to the merged_output"
      ],
      "metadata": {
        "id": "-hHMmQECFp7y"
      }
    },
    {
      "cell_type": "code",
      "source": [
        "print(merged_df.columns.tolist())"
      ],
      "metadata": {
        "colab": {
          "base_uri": "https://localhost:8080/"
        },
        "id": "0ppND38UpvDC",
        "outputId": "6915a44c-5dc9-482f-b4f5-d7879ab526e2"
      },
      "execution_count": 10,
      "outputs": [
        {
          "output_type": "stream",
          "name": "stdout",
          "text": [
            "['email', 'State', 'CUTICK', 'Columbia', 'invitation', 'Giftcard sent', 'DL', 'points', 'total_days_readable', 'county_name', 'STATE_NAME', 'median_time_diff_readable', 'centroid_latitude', 'centroid_longitude', 'location_centroid', 'comments', 'user_id', 'user_state', 'user_study_arm', 'user_language', 'baseline_complete', 'most_recent_activity', 'last_device_used']\n"
          ]
        }
      ]
    },
    {
      "cell_type": "code",
      "source": [
        "print(merged_df.shape)"
      ],
      "metadata": {
        "colab": {
          "base_uri": "https://localhost:8080/"
        },
        "id": "gYFzUdSGraVF",
        "outputId": "8c0b1405-0d7b-4db7-b8ba-6e9d58a47f05"
      },
      "execution_count": 11,
      "outputs": [
        {
          "output_type": "stream",
          "name": "stdout",
          "text": [
            "(2731, 23)\n"
          ]
        }
      ]
    },
    {
      "cell_type": "code",
      "source": [
        "num_missing = merged_df[merged_df['centroid_latitude'].isnull() | merged_df['centroid_longitude'].isnull()].shape[0]\n",
        "print(\"The number of users with missing gps data\", num_missing)"
      ],
      "metadata": {
        "colab": {
          "base_uri": "https://localhost:8080/"
        },
        "id": "1sFKBR5Gr5ZU",
        "outputId": "bb24844d-651d-4da5-b0f2-21033fe58749"
      },
      "execution_count": 13,
      "outputs": [
        {
          "output_type": "stream",
          "name": "stdout",
          "text": [
            "The number of users with missing gps data 1075\n"
          ]
        }
      ]
    },
    {
      "cell_type": "code",
      "source": [
        "# drop null in the gps data\n",
        "df_gps_valid = merged_df.dropna(subset=['centroid_latitude', 'centroid_longitude'])\n",
        "\n",
        "# define the condition\n",
        "in_north_america = (\n",
        "    (df_gps_valid['centroid_longitude'] >= -170) &\n",
        "    (df_gps_valid['centroid_longitude'] <= -50) &\n",
        "    (df_gps_valid['centroid_latitude'] >= 15) &\n",
        "    (df_gps_valid['centroid_latitude'] <= 75)\n",
        ")\n",
        "\n",
        "# choose who is not in north america\n",
        "not_in_north_america = df_gps_valid[~in_north_america]\n",
        "\n",
        "print(\"users who are not in north america：\", not_in_north_america.shape[0])"
      ],
      "metadata": {
        "colab": {
          "base_uri": "https://localhost:8080/"
        },
        "id": "X-OpQDkpslZV",
        "outputId": "fdd5589e-cbd5-467a-9965-7f37d4960a3a"
      },
      "execution_count": 14,
      "outputs": [
        {
          "output_type": "stream",
          "name": "stdout",
          "text": [
            "users who are not in north america： 149\n"
          ]
        }
      ]
    },
    {
      "cell_type": "code",
      "source": [
        "import matplotlib.pyplot as plt"
      ],
      "metadata": {
        "id": "4KsJPiCgt0D4"
      },
      "execution_count": 15,
      "outputs": []
    },
    {
      "cell_type": "code",
      "source": [
        "count_na = df_gps_valid[in_north_america].shape[0]\n",
        "count_other = df_gps_valid[~in_north_america].shape[0]\n",
        "categories = ['NA', 'Others', 'Missing']\n",
        "counts = [count_na, count_other, num_missing]\n",
        "\n",
        "def make_autopct(values):\n",
        "    def my_autopct(pct):\n",
        "        total = sum(values)\n",
        "        absolute = int(round(pct * total / 100.0))\n",
        "        return '{:.1f}%\\n({:d})'.format(pct, absolute)\n",
        "    return my_autopct\n",
        "\n",
        "plt.figure(figsize=(8, 6))\n",
        "plt.pie(counts, labels=categories, autopct=make_autopct(counts), startangle=140)\n",
        "plt.title('The GPS data of users')\n",
        "plt.axis('equal')  # Keep to be circle\n",
        "plt.show()"
      ],
      "metadata": {
        "colab": {
          "base_uri": "https://localhost:8080/",
          "height": 521
        },
        "id": "8HpgenLcuQPE",
        "outputId": "db90d142-27b9-44bd-881f-1f8b8815f4df"
      },
      "execution_count": 18,
      "outputs": [
        {
          "output_type": "display_data",
          "data": {
            "text/plain": [
              "<Figure size 800x600 with 1 Axes>"
            ],
            "image/png": "[encoded data removed]"
          },
          "metadata": {}
        }
      ]
    },
    {
      "cell_type": "markdown",
      "source": [
        "## Plot the GPS data in the map"
      ],
      "metadata": {
        "id": "8bBKETPjFwVd"
      }
    },
    {
      "cell_type": "code",
      "source": [
        "!pip install folium"
      ],
      "metadata": {
        "colab": {
          "base_uri": "https://localhost:8080/"
        },
        "id": "4UsrXkWWuYla",
        "outputId": "4601e797-1cf3-4d27-8d7f-4dce3762af24"
      },
      "execution_count": 19,
      "outputs": [
        {
          "output_type": "stream",
          "name": "stdout",
          "text": [
            "Requirement already satisfied: folium in /usr/local/lib/python3.11/dist-packages (0.19.4)\n",
            "Requirement already satisfied: branca>=0.6.0 in /usr/local/lib/python3.11/dist-packages (from folium) (0.8.1)\n",
            "Requirement already satisfied: jinja2>=2.9 in /usr/local/lib/python3.11/dist-packages (from folium) (3.1.5)\n",
            "Requirement already satisfied: numpy in /usr/local/lib/python3.11/dist-packages (from folium) (1.26.4)\n",
            "Requirement already satisfied: requests in /usr/local/lib/python3.11/dist-packages (from folium) (2.32.3)\n",
            "Requirement already satisfied: xyzservices in /usr/local/lib/python3.11/dist-packages (from folium) (2025.1.0)\n",
            "Requirement already satisfied: MarkupSafe>=2.0 in /usr/local/lib/python3.11/dist-packages (from jinja2>=2.9->folium) (3.0.2)\n",
            "Requirement already satisfied: charset-normalizer<4,>=2 in /usr/local/lib/python3.11/dist-packages (from requests->folium) (3.4.1)\n",
            "Requirement already satisfied: idna<4,>=2.5 in /usr/local/lib/python3.11/dist-packages (from requests->folium) (3.10)\n",
            "Requirement already satisfied: urllib3<3,>=1.21.1 in /usr/local/lib/python3.11/dist-packages (from requests->folium) (2.3.0)\n",
            "Requirement already satisfied: certifi>=2017.4.17 in /usr/local/lib/python3.11/dist-packages (from requests->folium) (2025.1.31)\n"
          ]
        }
      ]
    },
    {
      "cell_type": "code",
      "source": [
        "import folium"
      ],
      "metadata": {
        "id": "pvm6XDZUxQBF"
      },
      "execution_count": 20,
      "outputs": []
    },
    {
      "cell_type": "code",
      "source": [
        "map_center = [df_gps_valid['centroid_latitude'].mean(), df_gps_valid['centroid_longitude'].mean()]\n",
        "m = folium.Map(location=map_center, zoom_start=4)\n",
        "\n",
        "for idx, row in df_gps_valid.iterrows():\n",
        "    lat = row['centroid_latitude']\n",
        "    lon = row['centroid_longitude']\n",
        "    # add info to every point\n",
        "    popup_text = f\"Email: {row['email']}<br>Latitude: {lat}<br>Longitude: {lon}\"\n",
        "    folium.Marker(location=[lat, lon], popup=popup_text).add_to(m)\n",
        "\n",
        "m.save('map_with_gps.html')"
      ],
      "metadata": {
        "id": "vFByESyuxTU-"
      },
      "execution_count": 23,
      "outputs": []
    },
    {
      "cell_type": "markdown",
      "source": [
        "## Remove the scammers(users from Nigeria)"
      ],
      "metadata": {
        "id": "QpsIb5-fF2mV"
      }
    },
    {
      "cell_type": "code",
      "source": [
        "# Find people in Nigeria\n",
        "in_nigeria = (\n",
        "    (merged_df['centroid_longitude'] >= -9) &\n",
        "    (merged_df['centroid_longitude'] <= 9) &\n",
        "    (merged_df['centroid_latitude'] >= 4) &\n",
        "    (merged_df['centroid_latitude'] <= 15)\n",
        ")\n",
        "\n",
        "# Find people who have available gps data\n",
        "gps_valid = merged_df['centroid_latitude'].notnull() & merged_df['centroid_longitude'].notnull()\n",
        "\n",
        "# Remove them from the merged table\n",
        "not_in_nigeria = ~in_nigeria\n",
        "\n",
        "gps_not_valid = ~gps_valid\n",
        "\n",
        "gps_valid_not_in_nigeria = not_in_nigeria & gps_valid\n",
        "\n",
        "df_nonigeria = merged_df[gps_valid_not_in_nigeria | gps_not_valid]"
      ],
      "metadata": {
        "id": "Z5yaqS3QxcwW"
      },
      "execution_count": 29,
      "outputs": []
    },
    {
      "cell_type": "code",
      "source": [
        "print(df_nonigeria.columns.tolist())"
      ],
      "metadata": {
        "colab": {
          "base_uri": "https://localhost:8080/"
        },
        "id": "yrid_8yBHwby",
        "outputId": "eac39c59-c032-468f-f69d-2b2b935a4b82"
      },
      "execution_count": 31,
      "outputs": [
        {
          "output_type": "stream",
          "name": "stdout",
          "text": [
            "['email', 'State', 'CUTICK', 'Columbia', 'invitation', 'Giftcard sent', 'DL', 'points', 'total_days_readable', 'county_name', 'STATE_NAME', 'median_time_diff_readable', 'centroid_latitude', 'centroid_longitude', 'location_centroid', 'comments', 'user_id', 'user_state', 'user_study_arm', 'user_language', 'baseline_complete', 'most_recent_activity', 'last_device_used']\n"
          ]
        }
      ]
    },
    {
      "cell_type": "markdown",
      "source": [
        "## Merge it with baseline.xlsx and select the adult users"
      ],
      "metadata": {
        "id": "F6950axKMxF-"
      }
    },
    {
      "cell_type": "code",
      "source": [
        "baseline_path = '/content/drive/MyDrive/CU E3B lab/Tick app/Tick App modeling /Data/baseline.xlsx'\n",
        "df_baseline = pd.read_excel(baseline_path)"
      ],
      "metadata": {
        "id": "OCYXnpumLUPt"
      },
      "execution_count": 32,
      "outputs": []
    },
    {
      "cell_type": "code",
      "source": [
        "print(df_baseline.columns.tolist())"
      ],
      "metadata": {
        "colab": {
          "base_uri": "https://localhost:8080/"
        },
        "id": "kg_t2uXcN05-",
        "outputId": "e43e82fb-fbc4-408d-eda2-9f81c75c489e"
      },
      "execution_count": 34,
      "outputs": [
        {
          "output_type": "stream",
          "name": "stdout",
          "text": [
            "['user id', 'user state', 'user study arm', 'survey id', 'survey type', 'survey status', 'complete date', 'What is your gender? (a3be258a-af20-1448-d9b5-1b6f5e6b9257)', 'What is your age? (in years) (49020c58-c0cb-52c1-bf25-428e6e3e8f57)', 'Zipcode (6c8bd6db-c37f-22f0-6b6d-3f33fb9f9547)', 'City (ef255cb7-c8fc-dcea-f5c6-fe580120f508)', 'State * (68d53b50-385e-c302-35b9-fd9404fae9e3)', 'How did you hear about the Tick App? (select all that apply) (c89ed9c7-9cf3-fb26-41c4-2e57291741bb)', 'How did you hear about the Tick App? (9a001c1f-5144-ce7e-b25d-4d6711982da0)', 'Which study are you participating in?  (6a670f1f-a287-4178-950c-56c6e5ecbaf4)', 'Please enter your study code if you have one (66b71868-9c22-4d8a-ad0a-87499bb5b389)', 'When were you most recently bitten by a tick? (5e326d8d-a7f8-3bfc-15a4-673904ac55bb)', 'Lyme disease (994461e7-6de0-bfb8-19a7-cbe23055f03b)', 'Babesiosis (d5dfbbce-262f-d7fa-46ab-acf214c232ae)', 'Anaplasmosis (4e387a89-edd0-fd09-704c-a23e4a65cec6)', 'Other (50d068ed-1032-163f-472f-d96f6aa831cc)', 'What other tick-borne disease(s) were you diagnosed with by a physician? (9c1eb4bf-a701-3dca-c4d8-48643c776608)', 'What other tick-borne disease(s) were you diagnosed with by a physician? (21f64a45-8842-edca-a3e5-486fd55a8a06)', 'Use bug spray (0224f1f7-f5b7-4dd1-0baa-1eec4cedaea9)', 'Adjust clothing (for example wear light colors, long sleeves, tuck pants in socks) (d017f4f7-97f6-b180-f449-6741f226a0aa)', 'Shower or bathe to remove ticks (78caa922-6358-d773-e405-32a542a2598b)', 'Wear permethrin-treated clothing (08118cc0-a1a9-29eb-f693-e73825c62353)', 'Check myself for ticks (651a8e74-94ab-8dd1-393e-0efcad7d3765)', 'Avoid areas with ticks (b0de15dd-cd9c-7c70-a34b-019cd6caaf7b)', 'Other (d8ad742c-4dca-3563-0104-da9d4e0bb23c)', 'What other measures do you use to reduce exposure to ticks or tick bites? (d0c8b10a-908c-a986-5c6e-281d0ef3d6af)', 'During the spring and summer, what other outdoor activities do you do in woodlands and parks? (3301b780-a9ce-22af-def1-ce56f65a1df4)', 'During the spring and summer, what other outdoor activities do you do in woodlands and parks? (20080fb4-002f-38b0-5315-27e61b2c9fa8)', 'During the spring and summer, what other outdoor activities do you do in woodlands and parks? (8fd08a88-bb70-1ea4-dd65-64cfcabc2e46)', 'Mow the lawn (6ae85850-fae6-f5e5-1b7d-0d2ccab96e05)', 'Garden / weed (ef79508d-c031-cc72-fbbe-9b366f67466a)', 'Trim trees / remove brush / rake leaves (14609b0f-1f7c-f6b2-e2d8-bb936db68e17)', 'Grill / eat / sit (cd2332d9-3064-8bdb-914d-f65444e3abd9)', 'Play in the yard (dba3b765-8b0e-3458-2818-900bbafd22fc)', 'Other outdoor activity (f2244b89-3fd3-25a0-f093-8154ef6fe63a)', 'During the spring and summer, what other yard activities do you do? (e37552cd-82ed-8041-90b3-68c428565fc8)', 'During the spring and summer, what other yard activities do you do? (f0a3ab95-4e58-e117-b597-97117adb4b74)', 'During the spring and summer, what other yard activities do you do? (13f8b2aa-155c-9efd-448d-d584d2cfcfde)', 'During spring and summer, do you do paid or volunteer work in green spaces (yards, woods, parks)? (07da06f6-2b1b-6388-5ca6-54a2ba738dda)', 'During spring and summer, what describes your outdoor job(s) and/or volunteer role(s)? (78a5418d-647e-fc5a-5fce-c84505976f6c)', 'During spring and summer, what describes your outdoor job(s) and/or volunteer role(s)? (d04bdf39-bdca-c3f0-f047-e6d66ca87c6d)', 'Do you hunt in your home state? (8cf06b7a-d2cc-3361-f46d-d22e46674ff7)', 'Hike / walk / run (b3078d58-8a46-6d06-acfb-03465298d22c)', 'Bike / ATV (d87e9da8-5363-2aa4-16cb-b26189d8e556)', 'Bird Watch (a164d9ee-1264-147d-927f-d7b2922c82a3)', 'Grill / eat / sit (2d276391-b85e-785a-5b4e-692fb13c8f0a)', 'Visit the beach (river, lake or ocean) (6dfca16d-8436-3f96-186d-2374e6dcb157)', 'Camp (bd655241-47c2-9774-d7ae-8ebd62532e41)', 'Fish (0ac027b5-139b-80c4-2e13-3a56a84dcc5f)', 'Other outdoor activity (9dce2b78-bde3-db03-2dbe-ea1ba0474de8)', '0 to 6 year old(s) (84af836e-12d5-4c0b-282d-ff4daa1b2e4d)', '7 to 12 year old(s) (fd474354-5848-2080-d5dd-875f44362bb9)', '13 to 18 year old(s) (f947e5f3-9c21-0b2a-0b81-e4ff4efc70d5)', 'Currently how many dogs are living in your household? (1d7cf7f1-31f4-c775-7a18-8da19a7aa0ec)', 'During spring and summer, do you treat your dog against ticks? (7558a5c4-683f-9ef9-5329-71d0a378f3e0)', 'During spring and summer, do you treat your dogs against ticks? (1dc040a8-1ed2-001d-1229-c02b78a1a2f2)', 'During spring and summer, do you treat your dogs against ticks? (b943c9cd-bdef-f91b-93be-afde4f90f42e)', 'Currently how many cats are living in your household? (fa13a387-85ca-81ad-809c-4593b4447df5)', 'During spring and summer, do you treat your cats against ticks? (43d5b8fd-d840-87a5-9b1f-b7dc25050443)', 'During spring and summer, do you treat your cats against ticks? (5d2e3ddd-b7ff-bce1-1d54-6da7679fe148)', 'During spring and summer, do you treat your cat against ticks? (8f8da0f1-8996-a486-5a2a-be23c6b23d70)', 'Does your residence have a yard? (c674b069-8be9-10c4-c1b1-7fbab2aa62ca)', 'What best represents any green space in and around your yard? (893a4368-2636-6690-888c-aa10895b05d2)', 'Deer proof fence (91588486-1745-e439-fd84-5fcb0e5bb547)', 'Deer resistant plants (a453b01c-db5f-4f42-11ed-7033e7ab4d9c)', 'Deer repellent spray (61a09926-3fa0-dc7e-d9ee-0815c69824cb)', 'Provide food or bait  (1b098fdf-e9f5-c010-12b2-c49ed493637e)', 'Place tick tubes with treated nest material (for example Damminix, Thermacell) for tick control (2a9f5f18-30d8-383d-2979-a66cd41f4bf0)', 'Have bait boxes with tick treatment (for example Tick Control System)\\n (380ed9c8-44ac-7ab9-8347-547afeb7ba7a)', 'Relocate rodents (for example live-trap) (a3fc7e43-c8a7-c79a-6a16-b619f763a8e2)', 'Kill rodents (for example shoot, kill-trap) (1be77a62-5b7e-6f6a-ca16-18096007cd5e)', 'During spring and summer, do you or a pest management professional apply pesticides targeting ticks or other insects on your lawn or garden? (For example lawn insect granules, grub control combined with a fertilizer, insecticide spray, mosquito spray) (69ea59cf-9578-9e99-3027-0d3b02ee32e6)', 'What pesticide / insecticide is used? (please list brand and/or active ingredient) (35ae250d-de75-b4ea-161f-0dc24be68f22)', 'What pesticide / insecticide is used? (please list brand and/or active ingredient) (6b30d58a-9705-8026-e83b-99a4bf45d7ae)']\n"
          ]
        }
      ]
    },
    {
      "cell_type": "code",
      "source": [
        "# Replace the space in df_baseline to _ and make all str lower to make it the same as df_nonigeria\n",
        "df_baseline.columns = df_baseline.columns.str.replace(' ', '_').str.lower()\n",
        "\n",
        "df_nonigeria.columns = df_nonigeria.columns.str.replace(' ', '_').str.lower()\n",
        "\n",
        "print(df_baseline.columns.tolist())\n",
        "print(df_nonigeria.columns.tolist())"
      ],
      "metadata": {
        "colab": {
          "base_uri": "https://localhost:8080/"
        },
        "id": "16Nv62FvN58N",
        "outputId": "3a925ada-a17d-4807-bc6f-5805f3d28e21"
      },
      "execution_count": 37,
      "outputs": [
        {
          "output_type": "stream",
          "name": "stdout",
          "text": [
            "['user_id', 'user_state', 'user_study_arm', 'survey_id', 'survey_type', 'survey_status', 'complete_date', 'what_is_your_gender?_(a3be258a-af20-1448-d9b5-1b6f5e6b9257)', 'what_is_your_age?_(in_years)_(49020c58-c0cb-52c1-bf25-428e6e3e8f57)', 'zipcode_(6c8bd6db-c37f-22f0-6b6d-3f33fb9f9547)', 'city_(ef255cb7-c8fc-dcea-f5c6-fe580120f508)', 'state_*_(68d53b50-385e-c302-35b9-fd9404fae9e3)', 'how_did_you_hear_about_the_tick_app?_(select_all_that_apply)_(c89ed9c7-9cf3-fb26-41c4-2e57291741bb)', 'how_did_you_hear_about_the_tick_app?_(9a001c1f-5144-ce7e-b25d-4d6711982da0)', 'which_study_are_you_participating_in?__(6a670f1f-a287-4178-950c-56c6e5ecbaf4)', 'please_enter_your_study_code_if_you_have_one_(66b71868-9c22-4d8a-ad0a-87499bb5b389)', 'when_were_you_most_recently_bitten_by_a_tick?_(5e326d8d-a7f8-3bfc-15a4-673904ac55bb)', 'lyme_disease_(994461e7-6de0-bfb8-19a7-cbe23055f03b)', 'babesiosis_(d5dfbbce-262f-d7fa-46ab-acf214c232ae)', 'anaplasmosis_(4e387a89-edd0-fd09-704c-a23e4a65cec6)', 'other_(50d068ed-1032-163f-472f-d96f6aa831cc)', 'what_other_tick-borne_disease(s)_were_you_diagnosed_with_by_a_physician?_(9c1eb4bf-a701-3dca-c4d8-48643c776608)', 'what_other_tick-borne_disease(s)_were_you_diagnosed_with_by_a_physician?_(21f64a45-8842-edca-a3e5-486fd55a8a06)', 'use_bug_spray_(0224f1f7-f5b7-4dd1-0baa-1eec4cedaea9)', 'adjust_clothing_(for_example_wear_light_colors,_long_sleeves,_tuck_pants_in_socks)_(d017f4f7-97f6-b180-f449-6741f226a0aa)', 'shower_or_bathe_to_remove_ticks_(78caa922-6358-d773-e405-32a542a2598b)', 'wear_permethrin-treated_clothing_(08118cc0-a1a9-29eb-f693-e73825c62353)', 'check_myself_for_ticks_(651a8e74-94ab-8dd1-393e-0efcad7d3765)', 'avoid_areas_with_ticks_(b0de15dd-cd9c-7c70-a34b-019cd6caaf7b)', 'other_(d8ad742c-4dca-3563-0104-da9d4e0bb23c)', 'what_other_measures_do_you_use_to_reduce_exposure_to_ticks_or_tick_bites?_(d0c8b10a-908c-a986-5c6e-281d0ef3d6af)', 'during_the_spring_and_summer,_what_other_outdoor_activities_do_you_do_in_woodlands_and_parks?_(3301b780-a9ce-22af-def1-ce56f65a1df4)', 'during_the_spring_and_summer,_what_other_outdoor_activities_do_you_do_in_woodlands_and_parks?_(20080fb4-002f-38b0-5315-27e61b2c9fa8)', 'during_the_spring_and_summer,_what_other_outdoor_activities_do_you_do_in_woodlands_and_parks?_(8fd08a88-bb70-1ea4-dd65-64cfcabc2e46)', 'mow_the_lawn_(6ae85850-fae6-f5e5-1b7d-0d2ccab96e05)', 'garden_/_weed_(ef79508d-c031-cc72-fbbe-9b366f67466a)', 'trim_trees_/_remove_brush_/_rake_leaves_(14609b0f-1f7c-f6b2-e2d8-bb936db68e17)', 'grill_/_eat_/_sit_(cd2332d9-3064-8bdb-914d-f65444e3abd9)', 'play_in_the_yard_(dba3b765-8b0e-3458-2818-900bbafd22fc)', 'other_outdoor_activity_(f2244b89-3fd3-25a0-f093-8154ef6fe63a)', 'during_the_spring_and_summer,_what_other_yard_activities_do_you_do?_(e37552cd-82ed-8041-90b3-68c428565fc8)', 'during_the_spring_and_summer,_what_other_yard_activities_do_you_do?_(f0a3ab95-4e58-e117-b597-97117adb4b74)', 'during_the_spring_and_summer,_what_other_yard_activities_do_you_do?_(13f8b2aa-155c-9efd-448d-d584d2cfcfde)', 'during_spring_and_summer,_do_you_do_paid_or_volunteer_work_in_green_spaces_(yards,_woods,_parks)?_(07da06f6-2b1b-6388-5ca6-54a2ba738dda)', 'during_spring_and_summer,_what_describes_your_outdoor_job(s)_and/or_volunteer_role(s)?_(78a5418d-647e-fc5a-5fce-c84505976f6c)', 'during_spring_and_summer,_what_describes_your_outdoor_job(s)_and/or_volunteer_role(s)?_(d04bdf39-bdca-c3f0-f047-e6d66ca87c6d)', 'do_you_hunt_in_your_home_state?_(8cf06b7a-d2cc-3361-f46d-d22e46674ff7)', 'hike_/_walk_/_run_(b3078d58-8a46-6d06-acfb-03465298d22c)', 'bike_/_atv_(d87e9da8-5363-2aa4-16cb-b26189d8e556)', 'bird_watch_(a164d9ee-1264-147d-927f-d7b2922c82a3)', 'grill_/_eat_/_sit_(2d276391-b85e-785a-5b4e-692fb13c8f0a)', 'visit_the_beach_(river,_lake_or_ocean)_(6dfca16d-8436-3f96-186d-2374e6dcb157)', 'camp_(bd655241-47c2-9774-d7ae-8ebd62532e41)', 'fish_(0ac027b5-139b-80c4-2e13-3a56a84dcc5f)', 'other_outdoor_activity_(9dce2b78-bde3-db03-2dbe-ea1ba0474de8)', '0_to_6_year_old(s)_(84af836e-12d5-4c0b-282d-ff4daa1b2e4d)', '7_to_12_year_old(s)_(fd474354-5848-2080-d5dd-875f44362bb9)', '13_to_18_year_old(s)_(f947e5f3-9c21-0b2a-0b81-e4ff4efc70d5)', 'currently_how_many_dogs_are_living_in_your_household?_(1d7cf7f1-31f4-c775-7a18-8da19a7aa0ec)', 'during_spring_and_summer,_do_you_treat_your_dog_against_ticks?_(7558a5c4-683f-9ef9-5329-71d0a378f3e0)', 'during_spring_and_summer,_do_you_treat_your_dogs_against_ticks?_(1dc040a8-1ed2-001d-1229-c02b78a1a2f2)', 'during_spring_and_summer,_do_you_treat_your_dogs_against_ticks?_(b943c9cd-bdef-f91b-93be-afde4f90f42e)', 'currently_how_many_cats_are_living_in_your_household?_(fa13a387-85ca-81ad-809c-4593b4447df5)', 'during_spring_and_summer,_do_you_treat_your_cats_against_ticks?_(43d5b8fd-d840-87a5-9b1f-b7dc25050443)', 'during_spring_and_summer,_do_you_treat_your_cats_against_ticks?_(5d2e3ddd-b7ff-bce1-1d54-6da7679fe148)', 'during_spring_and_summer,_do_you_treat_your_cat_against_ticks?_(8f8da0f1-8996-a486-5a2a-be23c6b23d70)', 'does_your_residence_have_a_yard?_(c674b069-8be9-10c4-c1b1-7fbab2aa62ca)', 'what_best_represents_any_green_space_in_and_around_your_yard?_(893a4368-2636-6690-888c-aa10895b05d2)', 'deer_proof_fence_(91588486-1745-e439-fd84-5fcb0e5bb547)', 'deer_resistant_plants_(a453b01c-db5f-4f42-11ed-7033e7ab4d9c)', 'deer_repellent_spray_(61a09926-3fa0-dc7e-d9ee-0815c69824cb)', 'provide_food_or_bait__(1b098fdf-e9f5-c010-12b2-c49ed493637e)', 'place_tick_tubes_with_treated_nest_material_(for_example_damminix,_thermacell)_for_tick_control_(2a9f5f18-30d8-383d-2979-a66cd41f4bf0)', 'have_bait_boxes_with_tick_treatment_(for_example_tick_control_system)\\n_(380ed9c8-44ac-7ab9-8347-547afeb7ba7a)', 'relocate_rodents_(for_example_live-trap)_(a3fc7e43-c8a7-c79a-6a16-b619f763a8e2)', 'kill_rodents_(for_example_shoot,_kill-trap)_(1be77a62-5b7e-6f6a-ca16-18096007cd5e)', 'during_spring_and_summer,_do_you_or_a_pest_management_professional_apply_pesticides_targeting_ticks_or_other_insects_on_your_lawn_or_garden?_(for_example_lawn_insect_granules,_grub_control_combined_with_a_fertilizer,_insecticide_spray,_mosquito_spray)_(69ea59cf-9578-9e99-3027-0d3b02ee32e6)', 'what_pesticide_/_insecticide_is_used?_(please_list_brand_and/or_active_ingredient)_(35ae250d-de75-b4ea-161f-0dc24be68f22)', 'what_pesticide_/_insecticide_is_used?_(please_list_brand_and/or_active_ingredient)_(6b30d58a-9705-8026-e83b-99a4bf45d7ae)']\n",
            "['email', 'state', 'cutick', 'columbia', 'invitation', 'giftcard_sent', 'dl', 'points', 'total_days_readable', 'county_name', 'state_name', 'median_time_diff_readable', 'centroid_latitude', 'centroid_longitude', 'location_centroid', 'comments', 'user_id', 'user_state', 'user_study_arm', 'user_language', 'baseline_complete', 'most_recent_activity', 'last_device_used']\n"
          ]
        }
      ]
    },
    {
      "cell_type": "code",
      "source": [
        "common_cols = set(df_nonigeria.columns).intersection(set(df_baseline.columns))\n",
        "common_cols.discard('user_id')\n",
        "common_cols = list(common_cols)\n",
        "print(\"common columns：\", common_cols)\n",
        "\n",
        "# Extract user_id and common columns from these 2 datasets\n",
        "df1 = df_nonigeria[['user_id'] + common_cols]\n",
        "df2 = df_baseline[['user_id'] + common_cols]\n",
        "\n",
        "# Use different name to distinguish them\n",
        "merged_common = pd.merge(df1, df2, on='user_id', suffixes=('_nonigeria', '_baseline'))\n",
        "\n",
        "# Check whether it is the same value for the same user_id\n",
        "for col in common_cols:\n",
        "    col1 = f\"{col}_nonigeria\"\n",
        "    col2 = f\"{col}_baseline\"\n",
        "    equal_series = merged_common[col1] == merged_common[col2]\n",
        "\n",
        "    total = len(equal_series)\n",
        "    mismatches = (~equal_series).sum()\n",
        "\n",
        "    print(f\"The column '{col}': {total - mismatches} same values, {mismatches} mismatches（total num: {total}）\")\n",
        "\n",
        "    # check the detail if there is any difference\n",
        "    if mismatches > 0:\n",
        "        print(merged_common.loc[~equal_series, ['user_id', col1, col2]].head(), \"\\n\")"
      ],
      "metadata": {
        "colab": {
          "base_uri": "https://localhost:8080/"
        },
        "id": "ATHOkRrENLvk",
        "outputId": "103e7650-9416-46f0-e410-2911fd3fe61b"
      },
      "execution_count": 39,
      "outputs": [
        {
          "output_type": "stream",
          "name": "stdout",
          "text": [
            "common columns： ['user_state', 'user_study_arm']\n",
            "The column 'user_state': 2595 same values, 6 mismatches（total num: 2601）\n",
            "                                   user_id user_state_nonigeria  \\\n",
            "1312  8dd86cb3-cb7a-75fa-069b-9c6ad5972a37                  NaN   \n",
            "1344  6467ec29-15ff-1139-8262-b17ce0ee5d33                  NaN   \n",
            "1481  60a92e13-61d9-969d-b38d-914f5ebe3f19                  NaN   \n",
            "1535  5e4d744c-97dc-445d-9ce1-ca53edf87b2f                  NaN   \n",
            "1984  47fa1d28-77cf-6e52-5659-86651a28068e                  NaN   \n",
            "\n",
            "     user_state_baseline  \n",
            "1312                 NaN  \n",
            "1344                 NaN  \n",
            "1481                 NaN  \n",
            "1535                 NaN  \n",
            "1984                 NaN   \n",
            "\n",
            "The column 'user_study_arm': 2601 same values, 0 mismatches（total num: 2601）\n"
          ]
        }
      ]
    },
    {
      "cell_type": "code",
      "source": [
        "df_baseline_reduced = df_baseline.drop(columns=['user_state', 'user_study_arm'])\n",
        "\n",
        "# Merge through the same user_id\n",
        "merged_df = pd.merge(df_nonigeria, df_baseline_reduced, on='user_id', how='left')\n",
        "\n",
        "print(\"The columns after merging: \", merged_df.columns.tolist())"
      ],
      "metadata": {
        "colab": {
          "base_uri": "https://localhost:8080/"
        },
        "id": "agQCN5RyPRMp",
        "outputId": "4ef97fcf-a22d-48b8-b174-46b91d75a767"
      },
      "execution_count": 40,
      "outputs": [
        {
          "output_type": "stream",
          "name": "stdout",
          "text": [
            "The columns after merging:  ['email', 'state', 'cutick', 'columbia', 'invitation', 'giftcard_sent', 'dl', 'points', 'total_days_readable', 'county_name', 'state_name', 'median_time_diff_readable', 'centroid_latitude', 'centroid_longitude', 'location_centroid', 'comments', 'user_id', 'user_state', 'user_study_arm', 'user_language', 'baseline_complete', 'most_recent_activity', 'last_device_used', 'survey_id', 'survey_type', 'survey_status', 'complete_date', 'what_is_your_gender?_(a3be258a-af20-1448-d9b5-1b6f5e6b9257)', 'what_is_your_age?_(in_years)_(49020c58-c0cb-52c1-bf25-428e6e3e8f57)', 'zipcode_(6c8bd6db-c37f-22f0-6b6d-3f33fb9f9547)', 'city_(ef255cb7-c8fc-dcea-f5c6-fe580120f508)', 'state_*_(68d53b50-385e-c302-35b9-fd9404fae9e3)', 'how_did_you_hear_about_the_tick_app?_(select_all_that_apply)_(c89ed9c7-9cf3-fb26-41c4-2e57291741bb)', 'how_did_you_hear_about_the_tick_app?_(9a001c1f-5144-ce7e-b25d-4d6711982da0)', 'which_study_are_you_participating_in?__(6a670f1f-a287-4178-950c-56c6e5ecbaf4)', 'please_enter_your_study_code_if_you_have_one_(66b71868-9c22-4d8a-ad0a-87499bb5b389)', 'when_were_you_most_recently_bitten_by_a_tick?_(5e326d8d-a7f8-3bfc-15a4-673904ac55bb)', 'lyme_disease_(994461e7-6de0-bfb8-19a7-cbe23055f03b)', 'babesiosis_(d5dfbbce-262f-d7fa-46ab-acf214c232ae)', 'anaplasmosis_(4e387a89-edd0-fd09-704c-a23e4a65cec6)', 'other_(50d068ed-1032-163f-472f-d96f6aa831cc)', 'what_other_tick-borne_disease(s)_were_you_diagnosed_with_by_a_physician?_(9c1eb4bf-a701-3dca-c4d8-48643c776608)', 'what_other_tick-borne_disease(s)_were_you_diagnosed_with_by_a_physician?_(21f64a45-8842-edca-a3e5-486fd55a8a06)', 'use_bug_spray_(0224f1f7-f5b7-4dd1-0baa-1eec4cedaea9)', 'adjust_clothing_(for_example_wear_light_colors,_long_sleeves,_tuck_pants_in_socks)_(d017f4f7-97f6-b180-f449-6741f226a0aa)', 'shower_or_bathe_to_remove_ticks_(78caa922-6358-d773-e405-32a542a2598b)', 'wear_permethrin-treated_clothing_(08118cc0-a1a9-29eb-f693-e73825c62353)', 'check_myself_for_ticks_(651a8e74-94ab-8dd1-393e-0efcad7d3765)', 'avoid_areas_with_ticks_(b0de15dd-cd9c-7c70-a34b-019cd6caaf7b)', 'other_(d8ad742c-4dca-3563-0104-da9d4e0bb23c)', 'what_other_measures_do_you_use_to_reduce_exposure_to_ticks_or_tick_bites?_(d0c8b10a-908c-a986-5c6e-281d0ef3d6af)', 'during_the_spring_and_summer,_what_other_outdoor_activities_do_you_do_in_woodlands_and_parks?_(3301b780-a9ce-22af-def1-ce56f65a1df4)', 'during_the_spring_and_summer,_what_other_outdoor_activities_do_you_do_in_woodlands_and_parks?_(20080fb4-002f-38b0-5315-27e61b2c9fa8)', 'during_the_spring_and_summer,_what_other_outdoor_activities_do_you_do_in_woodlands_and_parks?_(8fd08a88-bb70-1ea4-dd65-64cfcabc2e46)', 'mow_the_lawn_(6ae85850-fae6-f5e5-1b7d-0d2ccab96e05)', 'garden_/_weed_(ef79508d-c031-cc72-fbbe-9b366f67466a)', 'trim_trees_/_remove_brush_/_rake_leaves_(14609b0f-1f7c-f6b2-e2d8-bb936db68e17)', 'grill_/_eat_/_sit_(cd2332d9-3064-8bdb-914d-f65444e3abd9)', 'play_in_the_yard_(dba3b765-8b0e-3458-2818-900bbafd22fc)', 'other_outdoor_activity_(f2244b89-3fd3-25a0-f093-8154ef6fe63a)', 'during_the_spring_and_summer,_what_other_yard_activities_do_you_do?_(e37552cd-82ed-8041-90b3-68c428565fc8)', 'during_the_spring_and_summer,_what_other_yard_activities_do_you_do?_(f0a3ab95-4e58-e117-b597-97117adb4b74)', 'during_the_spring_and_summer,_what_other_yard_activities_do_you_do?_(13f8b2aa-155c-9efd-448d-d584d2cfcfde)', 'during_spring_and_summer,_do_you_do_paid_or_volunteer_work_in_green_spaces_(yards,_woods,_parks)?_(07da06f6-2b1b-6388-5ca6-54a2ba738dda)', 'during_spring_and_summer,_what_describes_your_outdoor_job(s)_and/or_volunteer_role(s)?_(78a5418d-647e-fc5a-5fce-c84505976f6c)', 'during_spring_and_summer,_what_describes_your_outdoor_job(s)_and/or_volunteer_role(s)?_(d04bdf39-bdca-c3f0-f047-e6d66ca87c6d)', 'do_you_hunt_in_your_home_state?_(8cf06b7a-d2cc-3361-f46d-d22e46674ff7)', 'hike_/_walk_/_run_(b3078d58-8a46-6d06-acfb-03465298d22c)', 'bike_/_atv_(d87e9da8-5363-2aa4-16cb-b26189d8e556)', 'bird_watch_(a164d9ee-1264-147d-927f-d7b2922c82a3)', 'grill_/_eat_/_sit_(2d276391-b85e-785a-5b4e-692fb13c8f0a)', 'visit_the_beach_(river,_lake_or_ocean)_(6dfca16d-8436-3f96-186d-2374e6dcb157)', 'camp_(bd655241-47c2-9774-d7ae-8ebd62532e41)', 'fish_(0ac027b5-139b-80c4-2e13-3a56a84dcc5f)', 'other_outdoor_activity_(9dce2b78-bde3-db03-2dbe-ea1ba0474de8)', '0_to_6_year_old(s)_(84af836e-12d5-4c0b-282d-ff4daa1b2e4d)', '7_to_12_year_old(s)_(fd474354-5848-2080-d5dd-875f44362bb9)', '13_to_18_year_old(s)_(f947e5f3-9c21-0b2a-0b81-e4ff4efc70d5)', 'currently_how_many_dogs_are_living_in_your_household?_(1d7cf7f1-31f4-c775-7a18-8da19a7aa0ec)', 'during_spring_and_summer,_do_you_treat_your_dog_against_ticks?_(7558a5c4-683f-9ef9-5329-71d0a378f3e0)', 'during_spring_and_summer,_do_you_treat_your_dogs_against_ticks?_(1dc040a8-1ed2-001d-1229-c02b78a1a2f2)', 'during_spring_and_summer,_do_you_treat_your_dogs_against_ticks?_(b943c9cd-bdef-f91b-93be-afde4f90f42e)', 'currently_how_many_cats_are_living_in_your_household?_(fa13a387-85ca-81ad-809c-4593b4447df5)', 'during_spring_and_summer,_do_you_treat_your_cats_against_ticks?_(43d5b8fd-d840-87a5-9b1f-b7dc25050443)', 'during_spring_and_summer,_do_you_treat_your_cats_against_ticks?_(5d2e3ddd-b7ff-bce1-1d54-6da7679fe148)', 'during_spring_and_summer,_do_you_treat_your_cat_against_ticks?_(8f8da0f1-8996-a486-5a2a-be23c6b23d70)', 'does_your_residence_have_a_yard?_(c674b069-8be9-10c4-c1b1-7fbab2aa62ca)', 'what_best_represents_any_green_space_in_and_around_your_yard?_(893a4368-2636-6690-888c-aa10895b05d2)', 'deer_proof_fence_(91588486-1745-e439-fd84-5fcb0e5bb547)', 'deer_resistant_plants_(a453b01c-db5f-4f42-11ed-7033e7ab4d9c)', 'deer_repellent_spray_(61a09926-3fa0-dc7e-d9ee-0815c69824cb)', 'provide_food_or_bait__(1b098fdf-e9f5-c010-12b2-c49ed493637e)', 'place_tick_tubes_with_treated_nest_material_(for_example_damminix,_thermacell)_for_tick_control_(2a9f5f18-30d8-383d-2979-a66cd41f4bf0)', 'have_bait_boxes_with_tick_treatment_(for_example_tick_control_system)\\n_(380ed9c8-44ac-7ab9-8347-547afeb7ba7a)', 'relocate_rodents_(for_example_live-trap)_(a3fc7e43-c8a7-c79a-6a16-b619f763a8e2)', 'kill_rodents_(for_example_shoot,_kill-trap)_(1be77a62-5b7e-6f6a-ca16-18096007cd5e)', 'during_spring_and_summer,_do_you_or_a_pest_management_professional_apply_pesticides_targeting_ticks_or_other_insects_on_your_lawn_or_garden?_(for_example_lawn_insect_granules,_grub_control_combined_with_a_fertilizer,_insecticide_spray,_mosquito_spray)_(69ea59cf-9578-9e99-3027-0d3b02ee32e6)', 'what_pesticide_/_insecticide_is_used?_(please_list_brand_and/or_active_ingredient)_(35ae250d-de75-b4ea-161f-0dc24be68f22)', 'what_pesticide_/_insecticide_is_used?_(please_list_brand_and/or_active_ingredient)_(6b30d58a-9705-8026-e83b-99a4bf45d7ae)']\n"
          ]
        }
      ]
    },
    {
      "cell_type": "code",
      "source": [
        "print(merged_df.shape[0])"
      ],
      "metadata": {
        "colab": {
          "base_uri": "https://localhost:8080/"
        },
        "id": "2DSwwbTOQ_BC",
        "outputId": "e03e177c-2dac-4e26-a247-df04a1777c33"
      },
      "execution_count": 43,
      "outputs": [
        {
          "output_type": "stream",
          "name": "stdout",
          "text": [
            "2602\n"
          ]
        }
      ]
    },
    {
      "cell_type": "code",
      "source": [
        "# Select only adults\n",
        "age_col = \"what_is_your_age?_(in_years)_(49020c58-c0cb-52c1-bf25-428e6e3e8f57)\"\n",
        "\n",
        "merged_df[age_col] = pd.to_numeric(merged_df[age_col], errors='coerce')\n",
        "\n",
        "merged_df = merged_df[merged_df[age_col] >= 18]\n",
        "\n",
        "print(\"After age filter, the num of users：\", merged_df.shape[0])"
      ],
      "metadata": {
        "colab": {
          "base_uri": "https://localhost:8080/"
        },
        "id": "Dae6lQi2QiO4",
        "outputId": "69905969-bdad-4e65-f325-07485a8a1b59"
      },
      "execution_count": 45,
      "outputs": [
        {
          "output_type": "stream",
          "name": "stdout",
          "text": [
            "After age filter, the num of users： 2577\n"
          ]
        }
      ]
    },
    {
      "cell_type": "code",
      "source": [
        "# Define the pairs of columns to compare\n",
        "column_pairs = [\n",
        "    ('state', 'user_state'),\n",
        "    ('state', 'state_*_(68d53b50-385e-c302-35b9-fd9404fae9e3)'),\n",
        "    ('user_state', 'state_*_(68d53b50-385e-c302-35b9-fd9404fae9e3)')\n",
        "]\n",
        "\n",
        "# Iterate through each pair and display differences along with user_id\n",
        "for col1, col2 in column_pairs:\n",
        "    # Select rows where the two columns differ\n",
        "    differences = merged_df[merged_df[col1] != merged_df[col2]][['user_id', col1, col2]]\n",
        "    if not differences.empty:\n",
        "        print(f\"Differences between '{col1}' and '{col2}':\")\n",
        "        print(differences.head(), \"\\n\")\n",
        "    else:\n",
        "        print(f\"No differences between '{col1}' and '{col2}'.\")"
      ],
      "metadata": {
        "colab": {
          "base_uri": "https://localhost:8080/"
        },
        "id": "wBj0G-I5S1BB",
        "outputId": "21277c6c-237a-4116-c96f-9f0d0517f427"
      },
      "execution_count": 49,
      "outputs": [
        {
          "output_type": "stream",
          "name": "stdout",
          "text": [
            "Differences between 'state' and 'user_state':\n",
            "                                   user_id              state  \\\n",
            "1313  8dd86cb3-cb7a-75fa-069b-9c6ad5972a37           New York   \n",
            "1345  6467ec29-15ff-1139-8262-b17ce0ee5d33           New York   \n",
            "1482  60a92e13-61d9-969d-b38d-914f5ebe3f19               Ohio   \n",
            "1536  5e4d744c-97dc-445d-9ce1-ca53edf87b2f           New York   \n",
            "1602  fd526c02-6e9f-827e-e729-51532db43a54  Outside of the US   \n",
            "\n",
            "                    user_state  \n",
            "1313                       NaN  \n",
            "1345                       NaN  \n",
            "1482                       NaN  \n",
            "1536                       NaN  \n",
            "1602  Afuera de Estados Unidos   \n",
            "\n",
            "Differences between 'state' and 'state_*_(68d53b50-385e-c302-35b9-fd9404fae9e3)':\n",
            "                                   user_id              state  \\\n",
            "1602  fd526c02-6e9f-827e-e729-51532db43a54  Outside of the US   \n",
            "\n",
            "     state_*_(68d53b50-385e-c302-35b9-fd9404fae9e3)  \n",
            "1602                       Afuera de Estados Unidos   \n",
            "\n",
            "Differences between 'user_state' and 'state_*_(68d53b50-385e-c302-35b9-fd9404fae9e3)':\n",
            "                                   user_id user_state  \\\n",
            "1313  8dd86cb3-cb7a-75fa-069b-9c6ad5972a37        NaN   \n",
            "1345  6467ec29-15ff-1139-8262-b17ce0ee5d33        NaN   \n",
            "1482  60a92e13-61d9-969d-b38d-914f5ebe3f19        NaN   \n",
            "1536  5e4d744c-97dc-445d-9ce1-ca53edf87b2f        NaN   \n",
            "1985  47fa1d28-77cf-6e52-5659-86651a28068e        NaN   \n",
            "\n",
            "     state_*_(68d53b50-385e-c302-35b9-fd9404fae9e3)  \n",
            "1313                                       New York  \n",
            "1345                                       New York  \n",
            "1482                                           Ohio  \n",
            "1536                                       New York  \n",
            "1985                                  Massachusetts   \n",
            "\n"
          ]
        }
      ]
    },
    {
      "cell_type": "code",
      "source": [
        "# Drop the duplicate column because it is identical to 'state'\n",
        "merged_df = merged_df.drop(columns=[\"state_*_(68d53b50-385e-c302-35b9-fd9404fae9e3)\"])\n",
        "\n",
        "# Print the updated list of columns\n",
        "print(\"Updated columns after dropping the duplicate column:\")\n",
        "print(merged_df.columns.tolist())"
      ],
      "metadata": {
        "colab": {
          "base_uri": "https://localhost:8080/"
        },
        "id": "Zra1hg-FRalw",
        "outputId": "5cef6a3f-3670-47e9-8a25-5a6c1215c6ef"
      },
      "execution_count": 50,
      "outputs": [
        {
          "output_type": "stream",
          "name": "stdout",
          "text": [
            "Updated columns after dropping the duplicate column:\n",
            "['email', 'state', 'cutick', 'columbia', 'invitation', 'giftcard_sent', 'dl', 'points', 'total_days_readable', 'county_name', 'state_name', 'median_time_diff_readable', 'centroid_latitude', 'centroid_longitude', 'location_centroid', 'comments', 'user_id', 'user_state', 'user_study_arm', 'user_language', 'baseline_complete', 'most_recent_activity', 'last_device_used', 'survey_id', 'survey_type', 'survey_status', 'complete_date', 'what_is_your_gender?_(a3be258a-af20-1448-d9b5-1b6f5e6b9257)', 'what_is_your_age?_(in_years)_(49020c58-c0cb-52c1-bf25-428e6e3e8f57)', 'zipcode_(6c8bd6db-c37f-22f0-6b6d-3f33fb9f9547)', 'city_(ef255cb7-c8fc-dcea-f5c6-fe580120f508)', 'how_did_you_hear_about_the_tick_app?_(select_all_that_apply)_(c89ed9c7-9cf3-fb26-41c4-2e57291741bb)', 'how_did_you_hear_about_the_tick_app?_(9a001c1f-5144-ce7e-b25d-4d6711982da0)', 'which_study_are_you_participating_in?__(6a670f1f-a287-4178-950c-56c6e5ecbaf4)', 'please_enter_your_study_code_if_you_have_one_(66b71868-9c22-4d8a-ad0a-87499bb5b389)', 'when_were_you_most_recently_bitten_by_a_tick?_(5e326d8d-a7f8-3bfc-15a4-673904ac55bb)', 'lyme_disease_(994461e7-6de0-bfb8-19a7-cbe23055f03b)', 'babesiosis_(d5dfbbce-262f-d7fa-46ab-acf214c232ae)', 'anaplasmosis_(4e387a89-edd0-fd09-704c-a23e4a65cec6)', 'other_(50d068ed-1032-163f-472f-d96f6aa831cc)', 'what_other_tick-borne_disease(s)_were_you_diagnosed_with_by_a_physician?_(9c1eb4bf-a701-3dca-c4d8-48643c776608)', 'what_other_tick-borne_disease(s)_were_you_diagnosed_with_by_a_physician?_(21f64a45-8842-edca-a3e5-486fd55a8a06)', 'use_bug_spray_(0224f1f7-f5b7-4dd1-0baa-1eec4cedaea9)', 'adjust_clothing_(for_example_wear_light_colors,_long_sleeves,_tuck_pants_in_socks)_(d017f4f7-97f6-b180-f449-6741f226a0aa)', 'shower_or_bathe_to_remove_ticks_(78caa922-6358-d773-e405-32a542a2598b)', 'wear_permethrin-treated_clothing_(08118cc0-a1a9-29eb-f693-e73825c62353)', 'check_myself_for_ticks_(651a8e74-94ab-8dd1-393e-0efcad7d3765)', 'avoid_areas_with_ticks_(b0de15dd-cd9c-7c70-a34b-019cd6caaf7b)', 'other_(d8ad742c-4dca-3563-0104-da9d4e0bb23c)', 'what_other_measures_do_you_use_to_reduce_exposure_to_ticks_or_tick_bites?_(d0c8b10a-908c-a986-5c6e-281d0ef3d6af)', 'during_the_spring_and_summer,_what_other_outdoor_activities_do_you_do_in_woodlands_and_parks?_(3301b780-a9ce-22af-def1-ce56f65a1df4)', 'during_the_spring_and_summer,_what_other_outdoor_activities_do_you_do_in_woodlands_and_parks?_(20080fb4-002f-38b0-5315-27e61b2c9fa8)', 'during_the_spring_and_summer,_what_other_outdoor_activities_do_you_do_in_woodlands_and_parks?_(8fd08a88-bb70-1ea4-dd65-64cfcabc2e46)', 'mow_the_lawn_(6ae85850-fae6-f5e5-1b7d-0d2ccab96e05)', 'garden_/_weed_(ef79508d-c031-cc72-fbbe-9b366f67466a)', 'trim_trees_/_remove_brush_/_rake_leaves_(14609b0f-1f7c-f6b2-e2d8-bb936db68e17)', 'grill_/_eat_/_sit_(cd2332d9-3064-8bdb-914d-f65444e3abd9)', 'play_in_the_yard_(dba3b765-8b0e-3458-2818-900bbafd22fc)', 'other_outdoor_activity_(f2244b89-3fd3-25a0-f093-8154ef6fe63a)', 'during_the_spring_and_summer,_what_other_yard_activities_do_you_do?_(e37552cd-82ed-8041-90b3-68c428565fc8)', 'during_the_spring_and_summer,_what_other_yard_activities_do_you_do?_(f0a3ab95-4e58-e117-b597-97117adb4b74)', 'during_the_spring_and_summer,_what_other_yard_activities_do_you_do?_(13f8b2aa-155c-9efd-448d-d584d2cfcfde)', 'during_spring_and_summer,_do_you_do_paid_or_volunteer_work_in_green_spaces_(yards,_woods,_parks)?_(07da06f6-2b1b-6388-5ca6-54a2ba738dda)', 'during_spring_and_summer,_what_describes_your_outdoor_job(s)_and/or_volunteer_role(s)?_(78a5418d-647e-fc5a-5fce-c84505976f6c)', 'during_spring_and_summer,_what_describes_your_outdoor_job(s)_and/or_volunteer_role(s)?_(d04bdf39-bdca-c3f0-f047-e6d66ca87c6d)', 'do_you_hunt_in_your_home_state?_(8cf06b7a-d2cc-3361-f46d-d22e46674ff7)', 'hike_/_walk_/_run_(b3078d58-8a46-6d06-acfb-03465298d22c)', 'bike_/_atv_(d87e9da8-5363-2aa4-16cb-b26189d8e556)', 'bird_watch_(a164d9ee-1264-147d-927f-d7b2922c82a3)', 'grill_/_eat_/_sit_(2d276391-b85e-785a-5b4e-692fb13c8f0a)', 'visit_the_beach_(river,_lake_or_ocean)_(6dfca16d-8436-3f96-186d-2374e6dcb157)', 'camp_(bd655241-47c2-9774-d7ae-8ebd62532e41)', 'fish_(0ac027b5-139b-80c4-2e13-3a56a84dcc5f)', 'other_outdoor_activity_(9dce2b78-bde3-db03-2dbe-ea1ba0474de8)', '0_to_6_year_old(s)_(84af836e-12d5-4c0b-282d-ff4daa1b2e4d)', '7_to_12_year_old(s)_(fd474354-5848-2080-d5dd-875f44362bb9)', '13_to_18_year_old(s)_(f947e5f3-9c21-0b2a-0b81-e4ff4efc70d5)', 'currently_how_many_dogs_are_living_in_your_household?_(1d7cf7f1-31f4-c775-7a18-8da19a7aa0ec)', 'during_spring_and_summer,_do_you_treat_your_dog_against_ticks?_(7558a5c4-683f-9ef9-5329-71d0a378f3e0)', 'during_spring_and_summer,_do_you_treat_your_dogs_against_ticks?_(1dc040a8-1ed2-001d-1229-c02b78a1a2f2)', 'during_spring_and_summer,_do_you_treat_your_dogs_against_ticks?_(b943c9cd-bdef-f91b-93be-afde4f90f42e)', 'currently_how_many_cats_are_living_in_your_household?_(fa13a387-85ca-81ad-809c-4593b4447df5)', 'during_spring_and_summer,_do_you_treat_your_cats_against_ticks?_(43d5b8fd-d840-87a5-9b1f-b7dc25050443)', 'during_spring_and_summer,_do_you_treat_your_cats_against_ticks?_(5d2e3ddd-b7ff-bce1-1d54-6da7679fe148)', 'during_spring_and_summer,_do_you_treat_your_cat_against_ticks?_(8f8da0f1-8996-a486-5a2a-be23c6b23d70)', 'does_your_residence_have_a_yard?_(c674b069-8be9-10c4-c1b1-7fbab2aa62ca)', 'what_best_represents_any_green_space_in_and_around_your_yard?_(893a4368-2636-6690-888c-aa10895b05d2)', 'deer_proof_fence_(91588486-1745-e439-fd84-5fcb0e5bb547)', 'deer_resistant_plants_(a453b01c-db5f-4f42-11ed-7033e7ab4d9c)', 'deer_repellent_spray_(61a09926-3fa0-dc7e-d9ee-0815c69824cb)', 'provide_food_or_bait__(1b098fdf-e9f5-c010-12b2-c49ed493637e)', 'place_tick_tubes_with_treated_nest_material_(for_example_damminix,_thermacell)_for_tick_control_(2a9f5f18-30d8-383d-2979-a66cd41f4bf0)', 'have_bait_boxes_with_tick_treatment_(for_example_tick_control_system)\\n_(380ed9c8-44ac-7ab9-8347-547afeb7ba7a)', 'relocate_rodents_(for_example_live-trap)_(a3fc7e43-c8a7-c79a-6a16-b619f763a8e2)', 'kill_rodents_(for_example_shoot,_kill-trap)_(1be77a62-5b7e-6f6a-ca16-18096007cd5e)', 'during_spring_and_summer,_do_you_or_a_pest_management_professional_apply_pesticides_targeting_ticks_or_other_insects_on_your_lawn_or_garden?_(for_example_lawn_insect_granules,_grub_control_combined_with_a_fertilizer,_insecticide_spray,_mosquito_spray)_(69ea59cf-9578-9e99-3027-0d3b02ee32e6)', 'what_pesticide_/_insecticide_is_used?_(please_list_brand_and/or_active_ingredient)_(35ae250d-de75-b4ea-161f-0dc24be68f22)', 'what_pesticide_/_insecticide_is_used?_(please_list_brand_and/or_active_ingredient)_(6b30d58a-9705-8026-e83b-99a4bf45d7ae)']\n"
          ]
        }
      ]
    },
    {
      "cell_type": "code",
      "source": [
        "merged_df.to_csv('/content/drive/MyDrive/CU E3B lab/Tick app/merged_output_filtered.csv', index=False)"
      ],
      "metadata": {
        "id": "Ihfwox61VJZV"
      },
      "execution_count": 51,
      "outputs": []
    }
  ]
}